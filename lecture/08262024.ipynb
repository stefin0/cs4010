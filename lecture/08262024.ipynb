{
 "cells": [
  {
   "cell_type": "code",
   "execution_count": 43,
   "id": "cc4d8e93-5445-42f2-a998-ef65c4a94886",
   "metadata": {},
   "outputs": [
    {
     "name": "stdout",
     "output_type": "stream",
     "text": [
      "sqrt(2) = 1.4142135623730951\n",
      "x = 4\n",
      "4/3 = 1.3333333333333333\n",
      "7.5^75 = 4.261816577612588e+65\n",
      "-1.e100 = -1e+100\n",
      "-2.0j = (-2+0j)\n",
      "sqrt(-2.0j) = 1.4142135623730951j\n"
     ]
    }
   ],
   "source": [
    "# Import examples\n",
    "import numpy as np\n",
    "\n",
    "print (f\"sqrt(2) = {np.sqrt(2)}\")\n",
    "\n",
    "# How the textbook does this, is usually a bad idea:\n",
    "# from numpy import sqrt\n",
    "# print(sqrt(2))\n",
    "# from math import sqrt\n",
    "# print(sqrt(2))\n",
    "\n",
    "# This is a really bad idea:\n",
    "# from numpy import *\n",
    "\n",
    "# If you need to import just one function, rename it:\n",
    "# from math import sqrt as math_sqrt\n",
    "# print(math_sqrt(2))\n",
    "\n",
    "# Data type in python\n",
    "# Integers:\n",
    "x = 4\n",
    "print(f\"x = {x}\")\n",
    "\n",
    "# FLoating pint:\n",
    "y=3\n",
    "print(f\"4/3 = {x/y}\")\n",
    "\n",
    "z = 7.5**75\n",
    "print(f\"7.5^75 = {z}\")\n",
    "print(f\"-1.e100 = {-1.e100}\")\n",
    "\n",
    "# Complex numbers:\n",
    "c = -2.+0j\n",
    "print(f\"-2.0j = {c}\")\n",
    "print(f\"sqrt(-2.0j) = {np.sqrt(c)}\")\n",
    "\n",
    "# If I want np to use complex numbers, need to start with complex number. No automatic changes..?"
   ]
  },
  {
   "cell_type": "code",
   "execution_count": 55,
   "id": "57f0ebef-dab7-4f67-b472-759b45b62719",
   "metadata": {},
   "outputs": [
    {
     "name": "stdout",
     "output_type": "stream",
     "text": [
      "a = 7\n",
      "b = 3\n",
      "z = 4.261816577612588e+65\n",
      "c = (-2+0j)\n",
      "type of a = <class 'int'>\n",
      "type of z = <class 'float'>\n",
      "type of c = <class 'complex'>\n"
     ]
    }
   ],
   "source": [
    "# FUn with math\n",
    "a = 7\n",
    "b = 3\n",
    "\n",
    "print(f\"a = {a}\")\n",
    "print(f\"b = {b}\")\n",
    "print(f\"z = {z}\")\n",
    "print(f\"c = {c}\")\n",
    "\n",
    "print(f\"type of a = {type(a)}\")\n",
    "print(f\"type of z = {type(z)}\")\n",
    "print(f\"type of c = {type(c)}\")"
   ]
  },
  {
   "cell_type": "code",
   "execution_count": 57,
   "id": "84f471fa-0b96-42f4-893d-0e81ae39e14c",
   "metadata": {},
   "outputs": [],
   "source": [
    "# How much memory do they use?"
   ]
  },
  {
   "cell_type": "code",
   "execution_count": 63,
   "id": "cb147376-2e9d-4670-998f-8f39805b5cc2",
   "metadata": {},
   "outputs": [
    {
     "name": "stdout",
     "output_type": "stream",
     "text": [
      "size of a = 28\n",
      "size of z = 24\n",
      "size of c = 32\n"
     ]
    }
   ],
   "source": [
    "import sys\n",
    "\n",
    "print(f\"size of a = {sys.getsizeof(a)}\")\n",
    "print(f\"size of z = {sys.getsizeof(z)}\")\n",
    "print(f\"size of c = {sys.getsizeof(c)}\")"
   ]
  },
  {
   "cell_type": "code",
   "execution_count": 71,
   "id": "531c94c0-92a6-40d5-a93b-5df233bdc067",
   "metadata": {},
   "outputs": [
    {
     "name": "stdout",
     "output_type": "stream",
     "text": [
      "s = This is a string\n",
      "type of s = <class 'str'>\n",
      "t = True\n",
      "type of t = <class 'bool'>\n"
     ]
    }
   ],
   "source": [
    "# Other types \n",
    "# String:\n",
    "s = \"This is a string\"\n",
    "print(f\"s = {s}\")\n",
    "print(f\"type of s = {type(s)}\")\n",
    "\n",
    "# Boolean\n",
    "t = True\n",
    "print(f\"t = {t}\")\n",
    "print(f\"type of t = {type(t)}\")"
   ]
  },
  {
   "cell_type": "code",
   "execution_count": 111,
   "id": "ec9edf54-f86c-4485-a90a-c016fed6b881",
   "metadata": {},
   "outputs": [
    {
     "name": "stdout",
     "output_type": "stream",
     "text": [
      "a = 7\n",
      "b = 3\n",
      "np.sin(a) = 0.6569865987187891\n",
      "np.sin(a*np.pi/180) = 0.12186934340514748\n",
      "np.arctan(a/b)*180/np.pi = 66.80140948635182\n",
      "np.arctan(-a/b)*180/np.pi = -66.80140948635182\n",
      "np.arctan(-a/-b)*180/np.pi = 66.80140948635182\n",
      "np.arctan(a/-b)*180/np.pi = -66.80140948635182\n",
      "np.arctan2(a,b)*180/np.pi = 66.80140948635182\n",
      "np.arctan2(-a,b)*180/np.pi = -66.80140948635182\n",
      "np.arctan2(-a,-b)*180/np.pi = -113.1985905136482\n",
      "np.arctan2(a,-b)*180/np.pi = 113.1985905136482\n",
      "size of a**b = 343\n",
      "a/b = 2.3333333333333335\n",
      "a//b = 2\n",
      "a%b = 1\n",
      "a%(2*np.pi) = 0.7168146928204138\n",
      "int(a/b) = 2\n",
      "float(a) = 7.0\n",
      "int(5/3) = 1\n"
     ]
    }
   ],
   "source": [
    "# A little math\n",
    "print(f\"a = {a}\")\n",
    "print(f\"b = {b}\")\n",
    "\n",
    "# In radians\n",
    "print(f\"np.sin(a) = {np.sin(a)}\")\n",
    "\n",
    "# In degrees\n",
    "print(f\"np.sin(a*np.pi/180) = {np.sin(a*np.pi/180)}\")\n",
    "\n",
    "print(f\"np.arctan(a/b)*180/np.pi = {np.arctan(a/b)*180/np.pi}\")\n",
    "print(f\"np.arctan(-a/b)*180/np.pi = {np.arctan(-a/b)*180/np.pi}\")\n",
    "print(f\"np.arctan(-a/-b)*180/np.pi = {np.arctan(-a/-b)*180/np.pi}\")\n",
    "print(f\"np.arctan(a/-b)*180/np.pi = {np.arctan(a/-b)*180/np.pi}\")\n",
    "\n",
    "print(f\"np.arctan2(a,b)*180/np.pi = {np.arctan2(a,b)*180/np.pi}\")\n",
    "print(f\"np.arctan2(-a,b)*180/np.pi = {np.arctan2(-a,b)*180/np.pi}\")\n",
    "print(f\"np.arctan2(-a,-b)*180/np.pi = {np.arctan2(-a,-b)*180/np.pi}\")\n",
    "print(f\"np.arctan2(a,-b)*180/np.pi = {np.arctan2(a,-b)*180/np.pi}\")\n",
    "\n",
    "print(f\"size of a**b = {a**b}\")\n",
    "print(f\"a/b = {a/b}\")\n",
    "print(f\"a//b = {a//b}\")\n",
    "print(f\"a%b = {a%b}\")\n",
    "print(f\"a%(2*np.pi) = {a%(2*np.pi)}\")\n",
    "\n",
    "print(f\"int(a/b) = {int(a/b)}\")\n",
    "print(f\"float(a) = {float(a)}\")\n",
    "print(f\"int(5/3) = {int(5/3)}\")"
   ]
  },
  {
   "cell_type": "code",
   "execution_count": null,
   "id": "0ccca949-6da9-499e-9275-08ac3546b7d1",
   "metadata": {},
   "outputs": [],
   "source": []
  }
 ],
 "metadata": {
  "kernelspec": {
   "display_name": "Python 3 (ipykernel)",
   "language": "python",
   "name": "python3"
  },
  "language_info": {
   "codemirror_mode": {
    "name": "ipython",
    "version": 3
   },
   "file_extension": ".py",
   "mimetype": "text/x-python",
   "name": "python",
   "nbconvert_exporter": "python",
   "pygments_lexer": "ipython3",
   "version": "3.12.4"
  }
 },
 "nbformat": 4,
 "nbformat_minor": 5
}
