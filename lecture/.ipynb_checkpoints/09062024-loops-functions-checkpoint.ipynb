{
 "cells": [
  {
   "cell_type": "code",
   "execution_count": 1,
   "id": "fd0ce6eb-9bf4-4292-94ec-35df7e887504",
   "metadata": {},
   "outputs": [
    {
     "name": "stdout",
     "output_type": "stream",
     "text": [
      "arr1 = [0 1 2 3 4]\n"
     ]
    }
   ],
   "source": [
    "# Import any modules you need\n",
    "import numpy as np\n",
    "\n",
    "# Create an array to start with\n",
    "arr1 = np.arange(5)\n",
    "print(f\"arr1 = {arr1}\")"
   ]
  },
  {
   "cell_type": "code",
   "execution_count": 15,
   "id": "bdea0729-6822-4873-90c0-7cdcbadf1dc9",
   "metadata": {},
   "outputs": [
    {
     "name": "stdout",
     "output_type": "stream",
     "text": [
      "The sum of arr1 = 10\n",
      "The max of arr1 = 4\n"
     ]
    }
   ],
   "source": [
    "# Some example operations on arrays:\n",
    "print(f\"The sum of arr1 = {np.sum(arr1)}\")\n",
    "print(f\"The max of arr1 = {np.max(arr1)}\")"
   ]
  },
  {
   "cell_type": "code",
   "execution_count": 9,
   "id": "a84575d0-b15b-4603-a987-0e36fba2a8b5",
   "metadata": {},
   "outputs": [
    {
     "name": "stdout",
     "output_type": "stream",
     "text": [
      "arr2 = [ 6  9 12 15 18]\n"
     ]
    }
   ],
   "source": [
    "# Setup another array\n",
    "arr2 = 3*(arr1 + 2)\n",
    "print(f\"arr2 = {arr2}\")"
   ]
  },
  {
   "cell_type": "code",
   "execution_count": 21,
   "id": "cefb90b5-b8f3-4509-99f6-8663b6f950b7",
   "metadata": {},
   "outputs": [
    {
     "name": "stdout",
     "output_type": "stream",
     "text": [
      "i = 0\n",
      "The square root of 6 is 2.449489742783178\n",
      "i = 1\n",
      "The square root of 9 is 3.0\n",
      "i = 2\n",
      "The square root of 12 is 3.4641016151377544\n",
      "i = 3\n",
      "The square root of 15 is 3.872983346207417\n",
      "i = 4\n",
      "The square root of 18 is 4.242640687119285\n",
      "Done\n"
     ]
    }
   ],
   "source": [
    "# Example of a for loop\n",
    "# A for loop goes over a fixed number of something\n",
    "\n",
    "# Loop over value of i from 0 to however many elements are in arr2\n",
    "for i in np.arange(arr2.size):\n",
    "    print(f\"i = {i}\")\n",
    "    print(f\"The square root of {arr2[i]} is {np.sqrt(arr2[i])}\")\n",
    "print(\"Done\")"
   ]
  },
  {
   "cell_type": "code",
   "execution_count": 29,
   "id": "2887880b-f5a7-4078-bf56-731a1385be35",
   "metadata": {},
   "outputs": [
    {
     "name": "stdout",
     "output_type": "stream",
     "text": [
      "The square root of 6 is 2.449489742783178\n",
      "The square root of 9 is 3.0\n",
      "The square root of 12 is 3.4641016151377544\n",
      "The square root of 15 is 3.872983346207417\n",
      "The square root of 18 is 4.242640687119285\n",
      "Done\n",
      "sqrt_arr = [2.44948974 3.         3.46410162 3.87298335 4.24264069]\n"
     ]
    }
   ],
   "source": [
    "# Another for loop that stores the results\n",
    "# Create an empty array\n",
    "sqrt_arr = np.zeros(arr2.size)\n",
    "for i in np.arange(arr2.size):\n",
    "    print(f\"The square root of {arr2[i]} is {np.sqrt(arr2[i])}\")\n",
    "    # Store the result in the array we just created\n",
    "    sqrt_arr[i] = np.sqrt(arr2[i])\n",
    "print(\"Done\")\n",
    "print(f\"sqrt_arr = {sqrt_arr}\")"
   ]
  },
  {
   "cell_type": "code",
   "execution_count": 33,
   "id": "d9b66e78-c660-46b0-a6cf-b596fa2c7259",
   "metadata": {},
   "outputs": [
    {
     "name": "stdout",
     "output_type": "stream",
     "text": [
      "The square root of 6 is 2.449489742783178\n",
      "The square root of 9 is 3.0\n",
      "The square root of 12 is 3.4641016151377544\n",
      "The square root of 15 is 3.872983346207417\n",
      "The square root of 18 is 4.242640687119285\n",
      "Done\n"
     ]
    }
   ],
   "source": [
    "# Instead of using an index, we can do a for loop on elements of an array\n",
    "# This can be more efficient because it can run in parallel\n",
    "for x in arr2:\n",
    "    print(f\"The square root of {x} is {np.sqrt(x)}\")\n",
    "print(\"Done\")"
   ]
  },
  {
   "cell_type": "code",
   "execution_count": 51,
   "id": "3518081c-8588-40cd-b3ab-2e84281b56fe",
   "metadata": {},
   "outputs": [
    {
     "name": "stdout",
     "output_type": "stream",
     "text": [
      "[[0. 0. 0. 0.]\n",
      " [0. 0. 0. 0.]\n",
      " [0. 0. 0. 0.]]\n",
      "Size of arr3 = 12\n",
      "Shape of arr3 = (3, 4)\n",
      "i = 0, j = 0\n",
      "i = 0, j = 1\n",
      "i = 0, j = 2\n",
      "i = 0, j = 3\n",
      "arr3 = [[1. 2. 3. 4.]\n",
      " [0. 0. 0. 0.]\n",
      " [0. 0. 0. 0.]]\n",
      "i = 1, j = 0\n",
      "i = 1, j = 1\n",
      "i = 1, j = 2\n",
      "i = 1, j = 3\n",
      "arr3 = [[1.         2.         3.         4.        ]\n",
      " [0.54030231 1.54030231 2.54030231 3.54030231]\n",
      " [0.         0.         0.         0.        ]]\n",
      "i = 2, j = 0\n",
      "i = 2, j = 1\n",
      "i = 2, j = 2\n",
      "i = 2, j = 3\n",
      "arr3 = [[ 1.          2.          3.          4.        ]\n",
      " [ 0.54030231  1.54030231  2.54030231  3.54030231]\n",
      " [-0.41614684  0.58385316  1.58385316  2.58385316]]\n"
     ]
    }
   ],
   "source": [
    "# For loops for a 2D array:\n",
    "arr3 = np.zeros([3, 4])\n",
    "print(arr3)\n",
    "print(f\"Size of arr3 = {arr3.size}\")\n",
    "print(f\"Shape of arr3 = {arr3.shape}\")\n",
    "\n",
    "for i in np.arange(arr3.shape[0]):\n",
    "    for j in np.arange(arr3.shape[1]):\n",
    "        print(f\"i = {i}, j = {j}\")\n",
    "        arr3[i, j] = np.cos(i)+j\n",
    "    print(f\"arr3 = {arr3}\")"
   ]
  },
  {
   "cell_type": "code",
   "execution_count": 53,
   "id": "b6955074-f97c-4008-9b7d-1bf9295bdde4",
   "metadata": {},
   "outputs": [],
   "source": [
    "# For loop for Fibonnaci numbers"
   ]
  },
  {
   "cell_type": "code",
   "execution_count": 61,
   "id": "c67ec2c9-6898-4bbb-9959-843b879e63e8",
   "metadata": {},
   "outputs": [
    {
     "name": "stdout",
     "output_type": "stream",
     "text": [
      "2 1\n",
      "3 2\n",
      "4 3\n",
      "5 5\n",
      "6 8\n",
      "7 13\n",
      "8 21\n",
      "9 34\n",
      "10 55\n",
      "Fibonnaci number 10 = 55\n"
     ]
    }
   ],
   "source": [
    "# Set up initial values\n",
    "f0 = 0\n",
    "f1 = 1\n",
    "\n",
    "# Set the Fibonnaci number we want to find\n",
    "n = 10\n",
    "for i in np.arange(2, n + 1):\n",
    "    f2 = f1+f0\n",
    "    f0 = f1\n",
    "    f1 = f2\n",
    "    print(i, f2)\n",
    "print(f\"Fibonnaci number {n} = {f2}\")"
   ]
  },
  {
   "cell_type": "code",
   "execution_count": 63,
   "id": "3469c144-946f-48fb-8979-fddd00be3ddb",
   "metadata": {},
   "outputs": [
    {
     "name": "stdout",
     "output_type": "stream",
     "text": [
      "np.sqrt(arr2) = [2.44948974 3.         3.46410162 3.87298335 4.24264069]\n"
     ]
    }
   ],
   "source": [
    "# For the square root example above, we can also just take the sqrt of the whole array:\n",
    "print(f\"np.sqrt(arr2) = {np.sqrt(arr2)}\")"
   ]
  },
  {
   "cell_type": "markdown",
   "id": "5f1810ae-fed6-46fa-9635-1a5d97a07ff7",
   "metadata": {},
   "source": [
    "# User defined functions"
   ]
  },
  {
   "cell_type": "code",
   "execution_count": 70,
   "id": "1714b4af-5ae2-4694-9e7c-12bdbd066fc9",
   "metadata": {},
   "outputs": [
    {
     "name": "stdout",
     "output_type": "stream",
     "text": [
      "num1 = 1\n",
      "num2 = 3\n"
     ]
    }
   ],
   "source": [
    "# Make a user defined function\n",
    "# This function adds 2 to whatever you give it\n",
    "def add2(x):\n",
    "    # Inputs: x = something to add to\n",
    "    sum = x + 2\n",
    "    return sum\n",
    "\n",
    "num1 = 1\n",
    "num2 = add2(num1)\n",
    "print(f\"num1 = {num1}\")\n",
    "print(f\"num2 = {num2}\")"
   ]
  },
  {
   "cell_type": "code",
   "execution_count": 72,
   "id": "163f3a1b-6db9-44a1-929a-65a01f78e313",
   "metadata": {},
   "outputs": [
    {
     "name": "stdout",
     "output_type": "stream",
     "text": [
      "The two roots are -1.0, -2.0\n"
     ]
    }
   ],
   "source": [
    "# Example of solving a quadratic equation\n",
    "def my_quad(a, b, c):\n",
    "    # Input:\n",
    "    # a, b, c are coeffecients for the quadratic equation to solve\n",
    "    # This time there are 3 input variables\n",
    "    root1 = (-b + np.sqrt(b**2 - 4 * a * c)) / (2 * a)\n",
    "    root2 = (-b - np.sqrt(b**2 - 4 * a * c)) / (2 * a)\n",
    "\n",
    "    # a = 7\n",
    "    return root1, root2\n",
    "\n",
    "# some numbers to start with\n",
    "a = 2\n",
    "b = 6\n",
    "c = 4\n",
    "\n",
    "plus_root, minus_root = my_quad(a, b, c)\n",
    "print(f\"The two roots are {plus_root}, {minus_root}\")"
   ]
  },
  {
   "cell_type": "code",
   "execution_count": 78,
   "id": "1b0225e8-58b4-4e46-af3a-bf7dc59fe1d3",
   "metadata": {},
   "outputs": [],
   "source": [
    "# Example of solving a quadratic equation with array input\n",
    "def my_quad2(arr):\n",
    "    # Input:\n",
    "    # arr1 is a 3 elements array with a, b, c are coefficients for the quadratic equation to solve\n",
    "    # This time there are 3 input variables\n",
    "    a = arr[0]\n",
    "    b = arr[1]\n",
    "    c = arr[2]\n",
    "\n",
    "    # arr[0] = 7\n",
    "    root1 = (-b + np.sqrt(b**2 - 4 * a * c)) / (2 * a)\n",
    "    root2 = (-b - np.sqrt(b**2 - 4 * a * c)) / (2 * a)\n",
    "\n",
    "    return root1, root2\n",
    "\n",
    "# Some numbers to start with\n",
    "a = 2\n",
    "b = 6\n",
    "c = 4\n",
    "\n",
    "arr_quad = np.array([a, b, c])\n",
    "plus_root, minus_root = my_quad2(arr_quad)\n",
    "\n",
    "# This will give an error - root 1 only defined inside loop\n",
    "\n",
    "# In this case, we did change ... (DIDNT FINISH COPYING CODE)\n",
    "\n"
   ]
  },
  {
   "cell_type": "code",
   "execution_count": 84,
   "id": "2a3fe340-460f-4cd6-a79a-1c6e4a289538",
   "metadata": {},
   "outputs": [
    {
     "name": "stdout",
     "output_type": "stream",
     "text": [
      "(array([-0.25834261, -0.31120901, -0.36254139, -0.41339313, -0.46481624]), array([-7.74165739, -5.35545766, -4.13745861, -3.38660687, -2.86851709]))\n",
      "abc_arr.shape = (3, 5)\n",
      "(array([-0.28571429, -0.34238888, -0.39357171, -0.43962624, -0.48096435]), array([-2.        , -2.08618254, -2.17785686, -2.27465947, -2.37617851]))\n",
      "(array([-0.25834261, -0.31120901, -0.36254139, -0.41339313, -0.46481624]), array([-7.74165739, -5.35545766, -4.13745861, -3.38660687, -2.86851709]))\n"
     ]
    }
   ],
   "source": [
    "# We can also call our function with arrays of values, rather than single values:\n",
    "# Set up some arrays of a, b, c values:\n",
    "\n",
    "a_arr = arr1 + a\n",
    "b_arr = arr1 + b + 10\n",
    "c_arr = arr1 + c\n",
    "\n",
    "# For my_quad, each of the 3 inputs is now an array:\n",
    "print(my_quad(a_arr, b_arr, c_arr))\n",
    "\n",
    "# For my_quad2, we can either pass in a 2d array:\n",
    "abc_arr = np.array([a_arr, b_arr, c_arr])\n",
    "print(f\"abc_arr.shape = {abc_arr.shape}\")\n",
    "print(my_quad2(abc_arr))\n",
    "\n",
    "# or a list of arrays\n",
    "print(my_quad2([a_arr, b_arr, c_arr]))"
   ]
  },
  {
   "cell_type": "code",
   "execution_count": 88,
   "id": "c7830cca-fa0c-4c77-9546-bd645b1445aa",
   "metadata": {},
   "outputs": [
    {
     "ename": "ModuleNotFoundError",
     "evalue": "No module named 'my_functions'",
     "output_type": "error",
     "traceback": [
      "\u001b[1;31m---------------------------------------------------------------------------\u001b[0m",
      "\u001b[1;31mModuleNotFoundError\u001b[0m                       Traceback (most recent call last)",
      "Cell \u001b[1;32mIn[88], line 3\u001b[0m\n\u001b[0;32m      1\u001b[0m \u001b[38;5;66;03m# Import functions from a file:\u001b[39;00m\n\u001b[0;32m      2\u001b[0m \u001b[38;5;66;03m# This will import all function from my_function.py\u001b[39;00m\n\u001b[1;32m----> 3\u001b[0m \u001b[38;5;28;01mimport\u001b[39;00m \u001b[38;5;21;01mmy_functions\u001b[39;00m \u001b[38;5;28;01mas\u001b[39;00m \u001b[38;5;21;01mmyfunc\u001b[39;00m\n\u001b[0;32m      5\u001b[0m \u001b[38;5;66;03m# Now run the function like on from any other package:\u001b[39;00m\n\u001b[0;32m      6\u001b[0m plus_root2, minus_root2 \u001b[38;5;241m=\u001b[39m myfunc\u001b[38;5;241m.\u001b[39mquad(a, b, c)\n",
      "\u001b[1;31mModuleNotFoundError\u001b[0m: No module named 'my_functions'"
     ]
    }
   ],
   "source": [
    "# Import functions from a file:\n",
    "# This will import all function from my_function.py\n",
    "import my_functions as myfunc\n",
    "\n",
    "# Now run the function like on from any other package:\n",
    "plus_root2, minus_root2 = myfunc.quad(a, b, c)\n",
    "print(f\"Two roots are {plus_root2}, {minus_root2}\")"
   ]
  },
  {
   "cell_type": "code",
   "execution_count": null,
   "id": "3a453c15-daa6-447f-91d2-995b778b25cb",
   "metadata": {},
   "outputs": [],
   "source": []
  }
 ],
 "metadata": {
  "kernelspec": {
   "display_name": "Python 3 (ipykernel)",
   "language": "python",
   "name": "python3"
  },
  "language_info": {
   "codemirror_mode": {
    "name": "ipython",
    "version": 3
   },
   "file_extension": ".py",
   "mimetype": "text/x-python",
   "name": "python",
   "nbconvert_exporter": "python",
   "pygments_lexer": "ipython3",
   "version": "3.12.4"
  }
 },
 "nbformat": 4,
 "nbformat_minor": 5
}
