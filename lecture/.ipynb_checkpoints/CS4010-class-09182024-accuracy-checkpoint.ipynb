{
 "cells": [
  {
   "cell_type": "code",
   "execution_count": 1,
   "id": "4c240253-0919-4a4e-9a47-09a6a6f4afbf",
   "metadata": {},
   "outputs": [],
   "source": [
    "# First, load any modules you need here.\n",
    "import numpy as np\n",
    "from matplotlib import pyplot as plt\n",
    "from matplotlib import colors as colors\n",
    "import timeit"
   ]
  },
  {
   "cell_type": "code",
   "execution_count": 2,
   "id": "574d550d-4cae-4fb3-b473-1f34e368a858",
   "metadata": {},
   "outputs": [
    {
     "name": "stdout",
     "output_type": "stream",
     "text": [
      "a = 2\n",
      "b = 1.4142135623730951\n",
      "c = 2.0000000000000004\n",
      "c - a = 4.440892098500626e-16\n",
      "c == a is False\n",
      "Close enough to equal\n",
      "1e+305\n"
     ]
    }
   ],
   "source": [
    "# Testing numerical accuracy:\n",
    "a = 2\n",
    "b = np.sqrt(a)\n",
    "c = b**2\n",
    "print(f\"a = {a}\\nb = {b}\\nc = {c}\")\n",
    "print(f\"c - a = {c - a}\")\n",
    "print(f\"c == a is {c == a}\")\n",
    "\n",
    "if (np.abs(c - a) < 1.e-12):\n",
    "    print(\"Close enough to equal\")\n",
    "\n",
    "print(1.e305)\n",
    "\n",
    "# How a number is stored in binary:\n",
    "# [sign|number|sign|exponent]\n",
    "# [0|101010|0|0100]\n"
   ]
  },
  {
   "cell_type": "code",
   "execution_count": 3,
   "id": "0c786188-aa10-47a6-b777-17b9fe4ab191",
   "metadata": {},
   "outputs": [
    {
     "name": "stdout",
     "output_type": "stream",
     "text": [
      "gamma, velocity, 1 - velocity\n",
      "1.0 0.0 1.0\n",
      "10.0 99.498743710662 0.005012562893380035\n",
      "100.0 99.99499987499375 5.000125006249245e-05\n",
      "1000.0 99.9999499999875 5.000001249699793e-07\n",
      "10000.0 99.99999949999999 5.000000080634948e-09\n",
      "100000.0 99.999999995 5.000000413701855e-11\n",
      "1000000.0 99.99999999994999 5.000444502911705e-13\n",
      "10000000.0 99.9999999999995 4.9960036108132044e-15\n",
      "100000000.0 99.99999999999999 1.1102230246251565e-16\n",
      "1000000000.0 100.0 0.0\n",
      "10000000000.0 100.0 0.0\n"
     ]
    }
   ],
   "source": [
    "# Lorentz factor\n",
    "gamma = 10.**np.arange(0,11) # Lorentz factor\n",
    "\n",
    "# gamma_2 = 1. / np.sqrt(1. - velocity**2)\n",
    "\n",
    "velocity = np.sqrt(1. - 1. / gamma**2)\n",
    "print(\"gamma, velocity, 1 - velocity\")\n",
    "\n",
    "for i in np.arange(gamma.size):\n",
    "    print(gamma[i], velocity[i]*100, 1. - velocity[i])"
   ]
  },
  {
   "cell_type": "code",
   "execution_count": 12,
   "id": "2f5e984b-7c30-4fbb-a336-bd54b3f14361",
   "metadata": {},
   "outputs": [
    {
     "name": "stdout",
     "output_type": "stream",
     "text": [
      "606401.941037\n",
      "Madelung constant with size 100.0 = -1.7418198158396654\n",
      "Running time = 44.3373979999451\n"
     ]
    }
   ],
   "source": [
    "# An example of how long something takes\n",
    "# using the Medlunch Constant program:\n",
    "start_time1 = timeit.default_timer()\n",
    "\n",
    "# declare some variables to hold the constant:\n",
    "Made = 0\n",
    "L = 100.\n",
    "\n",
    "# Do a triple loop over i, j, k\n",
    "for i in np.arange(-L, L+1):\n",
    "    for j in np.arange(-L, L + 1):\n",
    "        for k in np.arange(-L, L + 1):\n",
    "            # dont compute 0, 0, 0 element:\n",
    "            if (not (i == 0 and j == 0 and k == 0)):\n",
    "                if ((i + j + k) % 2 == 0): # i + j + k is even\n",
    "                    Made += 1.0/np.sqrt(i**2 + j**2 + k**2)\n",
    "                else:\n",
    "                    Made -= 1.0/np.sqrt(i**2 + j**2 + k**2)\n",
    "\n",
    "stop_time1 = timeit.default_timer()\n",
    "print(start_time1)\n",
    "print(f\"Madelung constant with size {L} = {Made}\")\n",
    "print(f\"Running time = {stop_time1 - start_time1}\")"
   ]
  },
  {
   "cell_type": "code",
   "execution_count": 20,
   "id": "d1ef516b-7d9c-4ac3-81af-09de2a776e14",
   "metadata": {},
   "outputs": [
    {
     "name": "stdout",
     "output_type": "stream",
     "text": [
      "Madelung constant with size 200  = -1.7446850421683215\n",
      "Running time =  6.864942100015469\n"
     ]
    }
   ],
   "source": [
    "# Try to speed this up:\n",
    "\n",
    "# using the Madelung Constant progam:\n",
    "\n",
    "start_time1 = timeit.default_timer()\n",
    "\n",
    "# declare some variables to hold the constant:\n",
    "Made = 0.\n",
    "L = 200\n",
    "\n",
    "# Do a tirpple loop over i,j,k:\n",
    "\n",
    "k = np.arange(-L,L+1)\n",
    "\n",
    "for i in np.arange(-L,L+1):\n",
    "    for j in np.arange(-L,L+1):\n",
    "        # don't compute 0,0,0 element:\n",
    "        lead_factor = np.power(-1,((i+j+k)%2))  # either -1 or 1 is odd or even\n",
    "        r = np.sqrt(i**2 + j**2 + k**2)\n",
    "        \n",
    "        if (i==0 and j==0):\n",
    "            r[L] = 1\n",
    "            lead_factor[L]=0\n",
    "        \n",
    "        Made += np.sum(lead_factor/r)\n",
    "\n",
    "stop_time1 = timeit.default_timer()\n",
    "                \n",
    "print('Madelung constant with size',L,' =',Made)\n",
    "    \n",
    "print('Running time = ',stop_time1-start_time1)\n",
    "    "
   ]
  },
  {
   "cell_type": "code",
   "execution_count": 21,
   "id": "76192f5a-d91c-4c4b-9e39-47b3948b002d",
   "metadata": {},
   "outputs": [
    {
     "name": "stdout",
     "output_type": "stream",
     "text": [
      "[array([[-200, -199, -198, ...,  198,  199,  200],\n",
      "       [-200, -199, -198, ...,  198,  199,  200],\n",
      "       [-200, -199, -198, ...,  198,  199,  200],\n",
      "       ...,\n",
      "       [-200, -199, -198, ...,  198,  199,  200],\n",
      "       [-200, -199, -198, ...,  198,  199,  200],\n",
      "       [-200, -199, -198, ...,  198,  199,  200]]), array([[-200, -200, -200, ..., -200, -200, -200],\n",
      "       [-199, -199, -199, ..., -199, -199, -199],\n",
      "       [-198, -198, -198, ..., -198, -198, -198],\n",
      "       ...,\n",
      "       [ 198,  198,  198, ...,  198,  198,  198],\n",
      "       [ 199,  199,  199, ...,  199,  199,  199],\n",
      "       [ 200,  200,  200, ...,  200,  200,  200]])]\n",
      "(401, 401)\n",
      "Madelung constant with size 200  = -1.744685042168467\n",
      "Running time =  2.321141600026749\n"
     ]
    }
   ],
   "source": [
    "# Get rid of another loop:\n",
    "\n",
    "# using the Madelung Constant progam:\n",
    "\n",
    "start_time1 = timeit.default_timer()\n",
    "\n",
    "# declare some variables to hold the constant:\n",
    "Made = 0.\n",
    "L = 200\n",
    "\n",
    "# Do a tirpple loop over i,j,k:\n",
    "\n",
    "k = np.arange(-L,L+1)\n",
    "j = np.arange(-L,L+1)\n",
    "\n",
    "jk = np.meshgrid(j,k)\n",
    "\n",
    "j2 = np.asarray(jk)[0,:,:]\n",
    "k2 = np.asarray(jk)[1,:,:]\n",
    "\n",
    "\n",
    "print(jk)\n",
    "\n",
    "print(j2.shape)\n",
    "\n",
    "\n",
    "for i in np.arange(-L,L+1):\n",
    "    # don't compute 0,0,0 element:\n",
    "\n",
    "    mod_factor = (i+j2+k2)%2\n",
    "    \n",
    "    lead_factor = np.power(-1,mod_factor)  # either -1 or 1 is odd or even\n",
    "    r = np.sqrt(i**2 + j2**2 + k2**2)\n",
    "\n",
    "    if (i==0):\n",
    "        r[L,L] = 1\n",
    "        lead_factor[L,L]=0\n",
    "\n",
    "    Made += np.sum(lead_factor/r)\n",
    "\n",
    "stop_time1 = timeit.default_timer()\n",
    "                \n",
    "print('Madelung constant with size',L,' =',Made)\n",
    "    \n",
    "print('Running time = ',stop_time1-start_time1)\n",
    "    "
   ]
  },
  {
   "cell_type": "code",
   "execution_count": 24,
   "id": "b34ad073-c916-4f92-b7a2-4d1f1ebe78ee",
   "metadata": {},
   "outputs": [
    {
     "name": "stdout",
     "output_type": "stream",
     "text": [
      "(401, 401, 401)\n",
      "Madelung constant with size 200  = -1.744685042168412\n",
      "Running time =  4.9855738000478595\n",
      "Array creation time =  1.3152959999861196\n"
     ]
    }
   ],
   "source": [
    "# Get rid of another loop:\n",
    "\n",
    "# using the Madelung Constant progam:\n",
    "\n",
    "start_time1 = timeit.default_timer()\n",
    "\n",
    "# declare some variables to hold the constant:\n",
    "Made = 0.\n",
    "L = 200\n",
    "\n",
    "# Do a tirpple loop over i,j,k:\n",
    "\n",
    "k = np.arange(-L,L+1)\n",
    "j = np.arange(-L,L+1)\n",
    "i = np.arange(-L,L+1)\n",
    "\n",
    "ijk = np.meshgrid(i,j,k)\n",
    "\n",
    "i3 = np.asarray(ijk)[0,:,:,:]\n",
    "j3 = np.asarray(ijk)[1,:,:,:]\n",
    "k3 = np.asarray(ijk)[2,:,:,:]\n",
    "\n",
    "stop_time2 = timeit.default_timer()\n",
    "\n",
    "print(j3.shape)\n",
    "\n",
    "\n",
    "# don't compute 0,0,0 element:\n",
    "\n",
    "mod_factor = (i3+j3+k3)%2\n",
    "\n",
    "lead_factor = np.power(-1,mod_factor)  # either -1 or 1 is odd or even\n",
    "r = np.sqrt(i3**2 + j3**2 + k3**2)\n",
    "\n",
    "r[L,L,L] = 1\n",
    "lead_factor[L,L,L]=0\n",
    "\n",
    "Made += np.sum(lead_factor/r)\n",
    "\n",
    "stop_time1 = timeit.default_timer()\n",
    "                \n",
    "print('Madelung constant with size',L,' =',Made)\n",
    "    \n",
    "print('Running time = ',stop_time1-start_time1)\n",
    "\n",
    "print('Array creation time = ',stop_time2-start_time1)\n",
    "\n"
   ]
  },
  {
   "cell_type": "code",
   "execution_count": 26,
   "id": "d67760f7-9533-4b38-b6aa-77d41e793150",
   "metadata": {},
   "outputs": [
    {
     "name": "stdout",
     "output_type": "stream",
     "text": [
      "(401, 401, 401)\n",
      "Madelung constant with size 200  = -1.747571793516683\n",
      "Running time =  146.5107401999412\n"
     ]
    }
   ],
   "source": [
    "# Loop through all the elements of an array\n",
    "\n",
    "print(r.shape)\n",
    "\n",
    "Made = 0\n",
    "\n",
    "L3 = r.shape[0]\n",
    "\n",
    "start_time1 = timeit.default_timer()\n",
    "\n",
    "\n",
    "for i in np.arange(L3):\n",
    "    for j in np.arange(L3):\n",
    "        for k in np.arange(L3):\n",
    "            # don't compute 0,0,0 element:\n",
    "            if (not (i==0 and j==0 and k==0)):\n",
    "                \n",
    "                Made += lead_factor[i,j,k]/r[i,j,k]\n",
    "\n",
    "stop_time1 = timeit.default_timer()\n",
    "                \n",
    "print('Madelung constant with size',L,' =',Made)\n",
    "    \n",
    "print('Running time = ',stop_time1-start_time1)\n"
   ]
  },
  {
   "cell_type": "code",
   "execution_count": null,
   "id": "56015a20-ddf9-4435-bc56-e9338d4c7f64",
   "metadata": {},
   "outputs": [],
   "source": []
  }
 ],
 "metadata": {
  "kernelspec": {
   "display_name": "Python 3 (ipykernel)",
   "language": "python",
   "name": "python3"
  },
  "language_info": {
   "codemirror_mode": {
    "name": "ipython",
    "version": 3
   },
   "file_extension": ".py",
   "mimetype": "text/x-python",
   "name": "python",
   "nbconvert_exporter": "python",
   "pygments_lexer": "ipython3",
   "version": "3.12.4"
  }
 },
 "nbformat": 4,
 "nbformat_minor": 5
}
