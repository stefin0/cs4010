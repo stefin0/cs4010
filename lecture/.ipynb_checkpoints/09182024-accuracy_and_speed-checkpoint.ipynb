{
 "cells": [
  {
   "cell_type": "markdown",
   "metadata": {},
   "source": [
    "## Accuracy and Speed\n",
    "\n",
    "."
   ]
  },
  {
   "cell_type": "code",
   "execution_count": 1,
   "metadata": {},
   "outputs": [],
   "source": [
    "# First, load any modules you need here.\n",
    "\n",
    "import numpy as np\n",
    "from matplotlib import pyplot as plt\n",
    "from matplotlib import colors as colors\n",
    "import timeit\n"
   ]
  },
  {
   "cell_type": "code",
   "execution_count": 2,
   "metadata": {},
   "outputs": [
    {
     "name": "stdout",
     "output_type": "stream",
     "text": [
      "a =  2.0\n",
      "b =  1.4142135623730951\n",
      "c =  2.0000000000000004\n",
      " \n",
      "c - a =  4.440892098500626e-16\n",
      "c == a is False\n",
      "Close enough to equal\n",
      "1e+305\n"
     ]
    }
   ],
   "source": [
    "# Testing numerical accuracy:\n",
    "\n",
    "a = 2.\n",
    "\n",
    "b = np.sqrt(a)\n",
    "\n",
    "c = b**2.\n",
    "\n",
    "print('a = ',a)\n",
    "print('b = ',b)\n",
    "print('c = ',c)\n",
    "\n",
    "print(' ')\n",
    "\n",
    "print('c - a = ',c - a)  # not exactly zero.  Get some random garbage\n",
    "\n",
    "print('c == a is', c == a)  # For floats, don't want to use ==\n",
    "\n",
    "if (np.abs(c-a)<1.e-12):\n",
    "    print('Close enough to equal')\n",
    "\n",
    "    \n",
    "print(1.e305)\n",
    "    \n",
    "# How a number is stored in binary:\n",
    "\n",
    "#  [sign|number|sign|exponent]\n",
    "#  [0|101010|0|0100]\n",
    "#  [+|42|+|4] = 42 * 2^4 = 672   # probably wrong\n",
    "#  [+|1+1/4+1/16|+|2^4] = 1.3125 * 2^4 = 17  # probably wrong"
   ]
  },
  {
   "cell_type": "code",
   "execution_count": 42,
   "metadata": {},
   "outputs": [
    {
     "name": "stdout",
     "output_type": "stream",
     "text": [
      "gamma, velocity, 1-velocity\n",
      "1.0 0.0 1.0\n",
      "0.0\n",
      "10.0 0.99498743710662 0.005012562893380035\n",
      "5.329070518200751e-16\n",
      "100.0 0.9999499987499375 5.000125006249245e-05\n",
      "-5.513811629498377e-14\n",
      "1000.0 0.999999499999875 5.000001249699793e-07\n",
      "-4.113326212973334e-11\n",
      "10000.0 0.9999999949999999 5.000000080634948e-09\n",
      "8.063494715315755e-09\n",
      "100000.0 0.99999999995 5.000000413701855e-11\n",
      "4.1370182880200446e-08\n",
      "1000000.0 0.9999999999995 5.000444502911705e-13\n",
      "4.444732764747459e-05\n",
      "10000000.0 0.999999999999995 4.9960036108132044e-15\n",
      "-0.00039987864525634797\n",
      "100000000.0 0.9999999999999999 1.1102230246251565e-16\n",
      "0.32891136\n",
      "1000000000.0 1.0 0.0\n",
      "-inf\n",
      "10000000000.0 1.0 0.0\n",
      "-inf\n"
     ]
    },
    {
     "name": "stderr",
     "output_type": "stream",
     "text": [
      "/var/folders/kx/h2dwjw7d65g6pv5hmhbnkfcc0000gp/T/ipykernel_17785/4057051247.py:7: RuntimeWarning: divide by zero encountered in divide\n",
      "  gamma_2 = 1/np.sqrt(1-velocity**2.)\n"
     ]
    }
   ],
   "source": [
    "# Lorentz factor\n",
    "\n",
    "gamma = 10.**np.arange(0,11)  # Lorentz factor\n",
    "\n",
    "velocity = np.sqrt(1. - 1./gamma**2)  \n",
    "\n",
    "print('gamma, velocity, 1-velocity')\n",
    "\n",
    "for i in np.arange(gamma.size):\n",
    "    print(gamma[i],velocity[i],1-velocity[i])\n",
    "    "
   ]
  },
  {
   "cell_type": "code",
   "execution_count": 6,
   "metadata": {},
   "outputs": [
    {
     "name": "stdout",
     "output_type": "stream",
     "text": [
      "1072027.134288\n",
      "Madelung constant with size 200  = -1.7446850421707383\n",
      "Running time =  47.514926666161045\n"
     ]
    }
   ],
   "source": [
    "# An example of how long something takes\n",
    "\n",
    "# using the Madelung Constant progam:\n",
    "\n",
    "start_time1 = timeit.default_timer()\n",
    "\n",
    "# declare some variables to hold the constant:\n",
    "Made = 0.\n",
    "L = 200\n",
    "\n",
    "# Do a tirpple loop over i,j,k:\n",
    "\n",
    "for i in np.arange(-L,L+1):\n",
    "    for j in np.arange(-L,L+1):\n",
    "        for k in np.arange(-L,L+1):\n",
    "            # don't compute 0,0,0 element:\n",
    "            if (not (i==0 and j==0 and k==0)):\n",
    "                \n",
    "                if ((i+j+k)%2 == 0):  # i+j+k is even:\n",
    "                    Made += 1.0/np.sqrt(i**2 + j**2 + k**2)\n",
    "                else:\n",
    "                    Made -= 1.0/np.sqrt(i**2 + j**2 + k**2)\n",
    "                    \n",
    "\n",
    "stop_time1 = timeit.default_timer()\n",
    "\n",
    "print(start_time1)\n",
    "                \n",
    "print('Madelung constant with size',L,' =',Made)\n",
    "    \n",
    "print('Running time = ',stop_time1-start_time1)\n",
    "    "
   ]
  },
  {
   "cell_type": "code",
   "execution_count": 7,
   "metadata": {},
   "outputs": [
    {
     "name": "stdout",
     "output_type": "stream",
     "text": [
      "Madelung constant with size 200  = -1.7446850421683215\n",
      "Running time =  0.985077999997884\n"
     ]
    }
   ],
   "source": [
    "# Try to speed this up:\n",
    "\n",
    "# using the Madelung Constant progam:\n",
    "\n",
    "start_time1 = timeit.default_timer()\n",
    "\n",
    "# declare some variables to hold the constant:\n",
    "Made = 0.\n",
    "L = 200\n",
    "\n",
    "# Do a tirpple loop over i,j,k:\n",
    "\n",
    "k = np.arange(-L,L+1)\n",
    "\n",
    "for i in np.arange(-L,L+1):\n",
    "    for j in np.arange(-L,L+1):\n",
    "        # don't compute 0,0,0 element:\n",
    "        lead_factor = np.power(-1,((i+j+k)%2))  # either -1 or 1 is odd or even\n",
    "        r = np.sqrt(i**2 + j**2 + k**2)\n",
    "        \n",
    "        if (i==0 and j==0):\n",
    "            r[L] = 1\n",
    "            lead_factor[L]=0\n",
    "        \n",
    "        Made += np.sum(lead_factor/r)\n",
    "\n",
    "stop_time1 = timeit.default_timer()\n",
    "                \n",
    "print('Madelung constant with size',L,' =',Made)\n",
    "    \n",
    "print('Running time = ',stop_time1-start_time1)\n",
    "    "
   ]
  },
  {
   "cell_type": "code",
   "execution_count": 13,
   "metadata": {},
   "outputs": [
    {
     "name": "stdout",
     "output_type": "stream",
     "text": [
      "[array([[-200, -199, -198, ...,  198,  199,  200],\n",
      "       [-200, -199, -198, ...,  198,  199,  200],\n",
      "       [-200, -199, -198, ...,  198,  199,  200],\n",
      "       ...,\n",
      "       [-200, -199, -198, ...,  198,  199,  200],\n",
      "       [-200, -199, -198, ...,  198,  199,  200],\n",
      "       [-200, -199, -198, ...,  198,  199,  200]]), array([[-200, -200, -200, ..., -200, -200, -200],\n",
      "       [-199, -199, -199, ..., -199, -199, -199],\n",
      "       [-198, -198, -198, ..., -198, -198, -198],\n",
      "       ...,\n",
      "       [ 198,  198,  198, ...,  198,  198,  198],\n",
      "       [ 199,  199,  199, ...,  199,  199,  199],\n",
      "       [ 200,  200,  200, ...,  200,  200,  200]])]\n",
      "(401, 401)\n",
      "Madelung constant with size 200  = -1.744685042168467\n",
      "Running time =  0.28947333293035626\n"
     ]
    }
   ],
   "source": [
    "# Get rid of another loop:\n",
    "\n",
    "# using the Madelung Constant progam:\n",
    "\n",
    "start_time1 = timeit.default_timer()\n",
    "\n",
    "# declare some variables to hold the constant:\n",
    "Made = 0.\n",
    "L = 200\n",
    "\n",
    "# Do a tirpple loop over i,j,k:\n",
    "\n",
    "k = np.arange(-L,L+1)\n",
    "j = np.arange(-L,L+1)\n",
    "\n",
    "jk = np.meshgrid(j,k)\n",
    "\n",
    "j2 = np.asarray(jk)[0,:,:]\n",
    "k2 = np.asarray(jk)[1,:,:]\n",
    "\n",
    "\n",
    "print(jk)\n",
    "\n",
    "print(j2.shape)\n",
    "\n",
    "\n",
    "for i in np.arange(-L,L+1):\n",
    "    # don't compute 0,0,0 element:\n",
    "\n",
    "    mod_factor = (i+j2+k2)%2\n",
    "    \n",
    "    lead_factor = np.power(-1,mod_factor)  # either -1 or 1 is odd or even\n",
    "    r = np.sqrt(i**2 + j2**2 + k2**2)\n",
    "\n",
    "    if (i==0):\n",
    "        r[L,L] = 1\n",
    "        lead_factor[L,L]=0\n",
    "\n",
    "    Made += np.sum(lead_factor/r)\n",
    "\n",
    "stop_time1 = timeit.default_timer()\n",
    "                \n",
    "print('Madelung constant with size',L,' =',Made)\n",
    "    \n",
    "print('Running time = ',stop_time1-start_time1)\n",
    "    "
   ]
  },
  {
   "cell_type": "code",
   "execution_count": 35,
   "metadata": {},
   "outputs": [
    {
     "name": "stdout",
     "output_type": "stream",
     "text": [
      "(401, 401, 401)\n",
      "Madelung constant with size 200  = -1.744685042168412\n",
      "Running time =  1.267015082994476\n",
      "Array creation time =  0.5780336251482368\n"
     ]
    }
   ],
   "source": [
    "# Get rid of another loop:\n",
    "\n",
    "# using the Madelung Constant progam:\n",
    "\n",
    "start_time1 = timeit.default_timer()\n",
    "\n",
    "# declare some variables to hold the constant:\n",
    "Made = 0.\n",
    "L = 200\n",
    "\n",
    "# Do a tirpple loop over i,j,k:\n",
    "\n",
    "k = np.arange(-L,L+1)\n",
    "j = np.arange(-L,L+1)\n",
    "i = np.arange(-L,L+1)\n",
    "\n",
    "ijk = np.meshgrid(i,j,k)\n",
    "\n",
    "i3 = np.asarray(ijk)[0,:,:,:]\n",
    "j3 = np.asarray(ijk)[1,:,:,:]\n",
    "k3 = np.asarray(ijk)[2,:,:,:]\n",
    "\n",
    "stop_time2 = timeit.default_timer()\n",
    "\n",
    "print(j3.shape)\n",
    "\n",
    "\n",
    "# don't compute 0,0,0 element:\n",
    "\n",
    "mod_factor = (i3+j3+k3)%2\n",
    "\n",
    "lead_factor = np.power(-1,mod_factor)  # either -1 or 1 is odd or even\n",
    "r = np.sqrt(i3**2 + j3**2 + k3**2)\n",
    "\n",
    "r[L,L,L] = 1\n",
    "lead_factor[L,L,L]=0\n",
    "\n",
    "Made += np.sum(lead_factor/r)\n",
    "\n",
    "stop_time1 = timeit.default_timer()\n",
    "                \n",
    "print('Madelung constant with size',L,' =',Made)\n",
    "    \n",
    "print('Running time = ',stop_time1-start_time1)\n",
    "\n",
    "print('Array creation time = ',stop_time2-start_time1)\n",
    "\n"
   ]
  },
  {
   "cell_type": "code",
   "execution_count": 39,
   "metadata": {},
   "outputs": [
    {
     "name": "stdout",
     "output_type": "stream",
     "text": [
      "(401, 401, 401)\n",
      "Madelung constant with size 200  = -1.747571793516683\n",
      "Running time =  22.740283834049478\n"
     ]
    }
   ],
   "source": [
    "# Loop through all the elements of an array\n",
    "\n",
    "print(r.shape)\n",
    "\n",
    "Made = 0\n",
    "\n",
    "L3 = r.shape[0]\n",
    "\n",
    "start_time1 = timeit.default_timer()\n",
    "\n",
    "\n",
    "for i in np.arange(L3):\n",
    "    for j in np.arange(L3):\n",
    "        for k in np.arange(L3):\n",
    "            # don't compute 0,0,0 element:\n",
    "            if (not (i==0 and j==0 and k==0)):\n",
    "                \n",
    "                Made += lead_factor[i,j,k]/r[i,j,k]\n",
    "\n",
    "stop_time1 = timeit.default_timer()\n",
    "                \n",
    "print('Madelung constant with size',L,' =',Made)\n",
    "    \n",
    "print('Running time = ',stop_time1-start_time1)\n"
   ]
  },
  {
   "cell_type": "code",
   "execution_count": null,
   "metadata": {},
   "outputs": [],
   "source": []
  }
 ],
 "metadata": {
  "kernelspec": {
   "display_name": "Python 3 (ipykernel)",
   "language": "python",
   "name": "python3"
  },
  "language_info": {
   "codemirror_mode": {
    "name": "ipython",
    "version": 3
   },
   "file_extension": ".py",
   "mimetype": "text/x-python",
   "name": "python",
   "nbconvert_exporter": "python",
   "pygments_lexer": "ipython3",
   "version": "3.12.4"
  }
 },
 "nbformat": 4,
 "nbformat_minor": 4
}
