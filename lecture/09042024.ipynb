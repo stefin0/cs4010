{
 "cells": [
  {
   "cell_type": "markdown",
   "id": "ba9b542c-e31b-47df-8766-2e4b82326568",
   "metadata": {},
   "source": [
    "# Data Structures - Lists and Arrays"
   ]
  },
  {
   "cell_type": "code",
   "execution_count": 20,
   "id": "c459198c-28a8-4cad-a53c-979dcf84409d",
   "metadata": {},
   "outputs": [
    {
     "name": "stdout",
     "output_type": "stream",
     "text": [
      "[1, 2, 3]\n",
      "[3, 3.3, '3']\n",
      "[1, [1, 2, 3], [4, 5]]\n",
      "2\n",
      "[1, 2, 3, [5, 6]]\n",
      "[]\n",
      "[1, 2, 3, 4, 5]\n"
     ]
    }
   ],
   "source": [
    "# First, import numpy\n",
    "import numpy as np\n",
    "\n",
    "list1 = [1, 2, 3]\n",
    "print(list1)\n",
    "\n",
    "list2 = [3, 3.3, \"3\"]\n",
    "print(list2)\n",
    "\n",
    "# Lists of lists\n",
    "list3 = [1, [1, 2, 3], [4, 5]]\n",
    "print(list3)\n",
    "\n",
    "# Index a list\n",
    "print(list3[1][1])\n",
    "\n",
    "list4 = [1, 2, 3]\n",
    "list4.append([5, 6])\n",
    "print(list4)\n",
    "\n",
    "list5 = []\n",
    "print(list5)\n",
    "\n",
    "x = 0\n",
    "while (x < 5):\n",
    "    x = x + 1\n",
    "    list5.append(x)\n",
    "\n",
    "print(list5)"
   ]
  },
  {
   "cell_type": "code",
   "execution_count": 50,
   "id": "a93072e0-7838-46c2-b5c8-1e8b0e7b7d72",
   "metadata": {},
   "outputs": [
    {
     "name": "stdout",
     "output_type": "stream",
     "text": [
      "arr1 = [1 2 3]\n",
      "arr2 = [1. 2. 3.]\n",
      "arr3 = ['3' '3.3' '3']\n",
      "arr4 = [0. 0. 0. 0. 0.]\n",
      "arr5 = [0.+0.j 0.+0.j 0.+0.j 0.+0.j 0.+0.j]\n",
      "arr6 = [1. 1. 1. 1. 1.]\n",
      "arr7 = [0 1 2 3 4]\n",
      "arr8 = [3 4 5 6 7]\n",
      "arr9 = [3 4 5 6 7 0 1 2 3 4]\n",
      "arr9 = [3 4 5 6 7 0 1 2 3 4 7]\n"
     ]
    }
   ],
   "source": [
    "# Numpy Arrays:\n",
    "arr1 = np.array([1, 2, 3])\n",
    "print(f\"arr1 = {arr1}\")\n",
    "\n",
    "arr2 = np.array([1, 2.0, 3])\n",
    "print(f\"arr2 = {arr2}\")\n",
    "\n",
    "arr3 = np.array([3, 3.3, \"3\"])\n",
    "print(f\"arr3 = {arr3}\")\n",
    "\n",
    "# Make an array with zeros:\n",
    "arr4 = np.zeros(5)\n",
    "print(f\"arr4 = {arr4}\")\n",
    "\n",
    "arr5 = np.zeros(5, complex)\n",
    "print(f\"arr5 = {arr5}\")\n",
    "\n",
    "# Way to make filled arrays:\n",
    "arr6 = np.ones(5)\n",
    "print(f\"arr6 = {arr6}\")\n",
    "\n",
    "arr7 = np.arange(5)\n",
    "print(f\"arr7 = {arr7}\")\n",
    "\n",
    "arr8 = np.arange(3, 8)\n",
    "print(f\"arr8 = {arr8}\")\n",
    "\n",
    "arr9 = np.append(arr8, arr7)\n",
    "print(f\"arr9 = {arr9}\")\n",
    "\n",
    "arr9 = np.append(arr9, 7)\n",
    "print(f\"arr9 = {arr9}\")"
   ]
  },
  {
   "cell_type": "code",
   "execution_count": 64,
   "id": "4a936f70-3a82-43b2-906e-661e597af2cf",
   "metadata": {},
   "outputs": [
    {
     "name": "stdout",
     "output_type": "stream",
     "text": [
      "Size of arr1 = 3\n",
      "Shape of arr1 = (3,)\n",
      "arr9 =\n",
      "[[0. 0. 0. 0.]\n",
      " [0. 0. 0. 0.]\n",
      " [0. 0. 0. 0.]]\n",
      "Size of arr9 = 12\n",
      "Shape of arr9 = (3, 4)\n"
     ]
    }
   ],
   "source": [
    "# Array commands:\n",
    "print(f\"Size of arr1 = {arr1.size}\")\n",
    "\n",
    "print(f\"Shape of arr1 = {arr1.shape}\")\n",
    "\n",
    "# Make a 2D array:\n",
    "arr9 = np.zeros([3, 4])\n",
    "print(f\"arr9 =\\n{arr9}\")\n",
    "\n",
    "print(f\"Size of arr9 = {arr9.size}\")\n",
    "print(f\"Shape of arr9 = {arr9.shape}\")"
   ]
  },
  {
   "cell_type": "code",
   "execution_count": 78,
   "id": "9f375674-5544-48c7-92b4-940ec5f5fd21",
   "metadata": {},
   "outputs": [
    {
     "name": "stdout",
     "output_type": "stream",
     "text": [
      "arr1 = [1 2 3]\n",
      "arr2 = [1. 2. 3.]\n",
      "arr2 + 1 = [2. 3. 4.]\n",
      "arr1 + arr2 = [2. 4. 6.]\n",
      "arr1 * arr2 = [1. 4. 9.]\n",
      "sqrt(arr2) = [1.         1.41421356 1.73205081]\n"
     ]
    }
   ],
   "source": [
    "# Math with arrays:\n",
    "print(f\"arr1 = {arr1}\")\n",
    "print(f\"arr2 = {arr2}\")\n",
    "print(f\"arr2 + 1 = {arr2 + 1}\")\n",
    "\n",
    "print(f\"arr1 + arr2 = {arr1 + arr2}\")\n",
    "print(f\"arr1 * arr2 = {arr1 * arr2}\")\n",
    "\n",
    "print(f\"sqrt(arr2) = {np.sqrt(arr2)}\")"
   ]
  },
  {
   "cell_type": "code",
   "execution_count": 88,
   "id": "d44e2f1d-7fb0-4408-94b7-3c22be451d0f",
   "metadata": {},
   "outputs": [
    {
     "name": "stdout",
     "output_type": "stream",
     "text": [
      "arr2[2] = 3.0\n",
      "arr8 = [3 4 5 6 7]\n",
      "arr8[2:] = [5 6 7]\n",
      "arr8[2:4] = [5 6]\n",
      "arr11 = [ 3  4 -1 -2 -3]\n",
      "arr8 = [3 4 5 6 7]\n"
     ]
    }
   ],
   "source": [
    "# Indexing and slicing arrays:\n",
    "print(f\"arr2[2] = {arr2[2]}\")\n",
    "print(f\"arr8 = {arr8}\")\n",
    "print(f\"arr8[2:] = {arr8[2:]}\")\n",
    "print(f\"arr8[2:4] = {arr8[2:4]}\")\n",
    "\n",
    "# Use np.copy if you want a new copy of an array.\n",
    "# Using = just sets it to the same thing in memory.\n",
    "arr11 = np.copy(arr8)\n",
    "arr11[2:5] = [-1, -2, -3]\n",
    "print(f\"arr11 = {arr11}\")\n",
    "print(f\"arr8 = {arr8}\")"
   ]
  },
  {
   "cell_type": "code",
   "execution_count": null,
   "id": "7bda7da7-7d67-4e8d-9e1c-2d16aa9e8aac",
   "metadata": {},
   "outputs": [],
   "source": []
  }
 ],
 "metadata": {
  "kernelspec": {
   "display_name": "Python 3 (ipykernel)",
   "language": "python",
   "name": "python3"
  },
  "language_info": {
   "codemirror_mode": {
    "name": "ipython",
    "version": 3
   },
   "file_extension": ".py",
   "mimetype": "text/x-python",
   "name": "python",
   "nbconvert_exporter": "python",
   "pygments_lexer": "ipython3",
   "version": "3.12.4"
  }
 },
 "nbformat": 4,
 "nbformat_minor": 5
}
