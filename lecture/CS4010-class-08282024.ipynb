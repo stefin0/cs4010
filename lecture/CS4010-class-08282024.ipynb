{
 "cells": [
  {
   "cell_type": "markdown",
   "id": "9628749f-4314-4519-8ec1-6148c23bbdf0",
   "metadata": {},
   "source": [
    "# User input, if and while statements"
   ]
  },
  {
   "cell_type": "code",
   "execution_count": 27,
   "id": "d8d445c3-bc89-4474-8a0e-4a7220a0b4e6",
   "metadata": {},
   "outputs": [
    {
     "name": "stdin",
     "output_type": "stream",
     "text": [
      "Enter the height of the tower in meters:  30\n",
      "Enter the time since the ball was dropped in seconds:  2\n"
     ]
    },
    {
     "name": "stdout",
     "output_type": "stream",
     "text": [
      "Height = 30.0\n",
      "Time = 2.0\n",
      "Your tower height is okay.\n",
      "The height of the ball is 10.379999999999999 meters above the ground.\n",
      "Current Height = 10.379999999999999\n"
     ]
    }
   ],
   "source": [
    "# This code calculates how high something is \n",
    "# off the ground when dropped from a tower\n",
    "\n",
    "# First, ask for he height of the tower and time since\n",
    "# the ball was dropped\n",
    "height = float(input(\"Enter the height of the tower in meters: \"))\n",
    "time = float(input(\"Enter the time since the ball was dropped in seconds: \"))\n",
    "\n",
    "print(f\"Height = {height}\\nTime = {time}\")\n",
    "\n",
    "# Now calculate the height of the ball:\n",
    "gravity = 9.81 # m/s^2\n",
    "distance = gravity * 1/2 * time**2 # Distance traveled in meters\n",
    "current_height = height - distance\n",
    "\n",
    "# Use some if statements to check different conditions:\n",
    "if (height <= 0): # The colon means begin the if statement\n",
    "    print(\"Your tower has no height! Try again.\")\n",
    "elif (time <= 0):\n",
    "    print(\"You haven\\'t dropped the ball yet\")\n",
    "else:\n",
    "    print(\"Your tower height is okay.\")\n",
    "    if (current_height > 0):\n",
    "        print(f\"The height of the ball is {current_height} meters above the ground.\")\n",
    "    elif (current_height == 0):\n",
    "        print(\"The ball is exactly on the ground.\")\n",
    "    else:\n",
    "        print(\"The ball hit the ground already.\")\n",
    "\n",
    "print(f\"Current Height = {current_height}\")"
   ]
  },
  {
   "cell_type": "code",
   "execution_count": 35,
   "id": "db701f43-bea9-4584-b0eb-dce13d8293cf",
   "metadata": {},
   "outputs": [
    {
     "name": "stdout",
     "output_type": "stream",
     "text": [
      "The 1-th Fibonacci number is 1\n",
      "The 2-th Fibonacci number is 1\n",
      "The 3-th Fibonacci number is 2\n",
      "The 4-th Fibonacci number is 3\n",
      "The 5-th Fibonacci number is 5\n",
      "The 6-th Fibonacci number is 8\n",
      "The 7-th Fibonacci number is 13\n",
      "The 8-th Fibonacci number is 21\n",
      "The 9-th Fibonacci number is 34\n",
      "The 10-th Fibonacci number is 55\n",
      "The 11-th Fibonacci number is 89\n",
      "The 12-th Fibonacci number is 144\n",
      "The 13-th Fibonacci number is 233\n",
      "The 14-th Fibonacci number is 377\n",
      "The 15-th Fibonacci number is 610\n",
      "The 16-th Fibonacci number is 987\n",
      "The 17-th Fibonacci number is 1597\n",
      "The 18-th Fibonacci number is 2584\n",
      "The 19-th Fibonacci number is 4181\n",
      "The 20-th Fibonacci number is 6765\n"
     ]
    }
   ],
   "source": [
    "# Example of a while statement:\n",
    "\n",
    "# Print all the Fibonacci numbers < x\n",
    "x = 10000\n",
    "f0 = 0\n",
    "f1 = 1\n",
    "i = 1\n",
    "\n",
    "# Use a while loop:\n",
    "while (f1 <= x):\n",
    "    print(f\"The {i}-th Fibonacci number is {f1}\")\n",
    "    f = f1 + f0\n",
    "    f0 = f1\n",
    "    f1 = f\n",
    "    i += 1"
   ]
  },
  {
   "cell_type": "code",
   "execution_count": null,
   "id": "19250646-9a83-4738-a6e8-5c0f8f1c2e72",
   "metadata": {},
   "outputs": [],
   "source": []
  }
 ],
 "metadata": {
  "kernelspec": {
   "display_name": "Python 3 (ipykernel)",
   "language": "python",
   "name": "python3"
  },
  "language_info": {
   "codemirror_mode": {
    "name": "ipython",
    "version": 3
   },
   "file_extension": ".py",
   "mimetype": "text/x-python",
   "name": "python",
   "nbconvert_exporter": "python",
   "pygments_lexer": "ipython3",
   "version": "3.12.4"
  }
 },
 "nbformat": 4,
 "nbformat_minor": 5
}
