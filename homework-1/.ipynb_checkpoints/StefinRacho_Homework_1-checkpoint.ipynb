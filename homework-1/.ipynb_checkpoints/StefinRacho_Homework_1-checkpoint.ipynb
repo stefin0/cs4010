{
 "cells": [
  {
   "cell_type": "markdown",
   "metadata": {},
   "source": [
    "CS 4010 - Homework 1\n",
    "\n",
    "\n",
    "Due Friday, 9/13/2024\n",
    "\n",
    "For each homework set:\n",
    "Create a New iPython (Jupyter) notebook.  Name the notebook FirstAndLastName_Homework1 and save it.\n",
    "To submit, export or print your notebook as a pdf, with all outputs visible.  Upload both the pdf and a copy of your notebook (.ipynb) in Canvas.\n",
    "\n",
    "\n",
    "\n",
    "1. For a computer with 4 GB of RAM, how many int values can the RAM hold? Note that your computer might have a different size of int. Make sure your code checks this and compute it properly.\n",
    "    - Repeat for Complex values."
   ]
  },
  {
   "cell_type": "code",
   "execution_count": 2,
   "metadata": {},
   "outputs": [
    {
     "name": "stdout",
     "output_type": "stream",
     "text": [
      "The size of an int in python (on this computer) is: 28 bytes.\n",
      "This computer with 4 GB of RAM can hold approximately 142857142 int values.\n"
     ]
    }
   ],
   "source": [
    "# The following code was made with knowledge from\n",
    "# the following link: https://www.geeksforgeeks.org/how-to-find-size-of-an-object-in-python/\n",
    "import sys\n",
    "\n",
    "int_size = sys.getsizeof(0)\n",
    "print(f\"The size of an int in python (on this computer) is: {int_size} bytes.\")\n",
    "\n",
    "# To calculate how many int values the \n",
    "# RAM can hold we need to divide 4 billion bytes by\n",
    "# the size of an int.\n",
    "ram_size = 4 * (10**9) # 4 GB in bytes\n",
    "num_ints = ram_size // int_size\n",
    "\n",
    "print(f\"This computer with 4 GB of RAM can hold approximately {num_ints} int values.\")"
   ]
  },
  {
   "cell_type": "markdown",
   "metadata": {},
   "source": [
    "2. Search for Mark Newman's website on Computational Physics textbook. \n",
    "    - Go to the programs and data page.\n",
    "    - Open dropped.py, copy and paste the code into your notebook\n",
    "    - Run the code in your notebook. Try at least 3 value of height and time. Copy the codes to 3 boxes at least.\n",
    "        - 1: The object is still in flight\n",
    "        - 2: The object passed through the ground\n",
    "        - 3: The object landed on the ground. Output ~ 0 (doesn't have to be exact)"
   ]
  },
  {
   "cell_type": "code",
   "execution_count": 4,
   "metadata": {},
   "outputs": [
    {
     "name": "stdin",
     "output_type": "stream",
     "text": [
      "Enter the height of the tower:  30\n",
      "Enter the time interval:  2\n"
     ]
    },
    {
     "name": "stdout",
     "output_type": "stream",
     "text": [
      "The height of the ball is 10.379999999999999 meters\n"
     ]
    }
   ],
   "source": [
    "h = float(input(\"Enter the height of the tower: \"))\n",
    "t = float(input(\"Enter the time interval: \"))\n",
    "\n",
    "s = 9.81*t**2/2\n",
    "\n",
    "print(\"The height of the ball is\",h-s,\"meters\")"
   ]
  },
  {
   "cell_type": "code",
   "execution_count": 5,
   "metadata": {},
   "outputs": [
    {
     "name": "stdin",
     "output_type": "stream",
     "text": [
      "Enter the height of the tower:  40\n",
      "Enter the time interval:  1\n"
     ]
    },
    {
     "name": "stdout",
     "output_type": "stream",
     "text": [
      "The height of the ball is 35.095 meters\n"
     ]
    }
   ],
   "source": [
    "h = float(input(\"Enter the height of the tower: \"))\n",
    "t = float(input(\"Enter the time interval: \"))\n",
    "\n",
    "s = 9.81*t**2/2\n",
    "\n",
    "print(\"The height of the ball is\",h-s,\"meters\")"
   ]
  },
  {
   "cell_type": "code",
   "execution_count": 6,
   "metadata": {},
   "outputs": [
    {
     "name": "stdin",
     "output_type": "stream",
     "text": [
      "Enter the height of the tower:  50\n",
      "Enter the time interval:  3.1919\n"
     ]
    },
    {
     "name": "stdout",
     "output_type": "stream",
     "text": [
      "The height of the ball is 0.026753382949998183 meters\n"
     ]
    }
   ],
   "source": [
    "h = float(input(\"Enter the height of the tower: \"))\n",
    "t = float(input(\"Enter the time interval: \"))\n",
    "\n",
    "s = 9.81*t**2/2\n",
    "\n",
    "# h = 50\n",
    "# t = 3.1919\n",
    "print(\"The height of the ball is\",h-s,\"meters\")"
   ]
  },
  {
   "attachments": {},
   "cell_type": "markdown",
   "metadata": {},
   "source": [
    "3. Exercise 2.1"
   ]
  },
  {
   "cell_type": "code",
   "execution_count": 8,
   "metadata": {},
   "outputs": [
    {
     "name": "stdin",
     "output_type": "stream",
     "text": [
      "Enter the height of the tower in meters:  100\n"
     ]
    },
    {
     "name": "stdout",
     "output_type": "stream",
     "text": [
      "The ball takes approximately 4.5175395145262565 seconds to hit the ground.\n"
     ]
    }
   ],
   "source": [
    "import numpy as np\n",
    "\n",
    "height = float(input(\"Enter the height of the tower in meters: \"))\n",
    "\n",
    "# We can use the following formula to calculate the\n",
    "# height of the ball with variables gravity and time:\n",
    "# h = 1/2gt^2\n",
    "# Solving for time, we get:\n",
    "# t = sqrt(2h/g)\n",
    "gravity = 9.8\n",
    "time = np.sqrt((2* height) / gravity)\n",
    "\n",
    "print(f\"The ball takes approximately {time} seconds to hit the ground.\")"
   ]
  },
  {
   "attachments": {},
   "cell_type": "markdown",
   "metadata": {},
   "source": [
    "4. Exercise 2.2"
   ]
  },
  {
   "cell_type": "code",
   "execution_count": 10,
   "metadata": {},
   "outputs": [
    {
     "name": "stdin",
     "output_type": "stream",
     "text": [
      "Enter your desired value of T:  555555555\n"
     ]
    },
    {
     "name": "stdout",
     "output_type": "stream",
     "text": [
      "For a satellite to orbit the Earth once every 555555555.0 seconds it needs to be launched to a height of approximately 146008965087.80573 meters above the Earth's surface.\n"
     ]
    }
   ],
   "source": [
    "# PART B\n",
    "# The formula they gave us is:\n",
    "# h = ((G * M * T**2) / (4 * pi**2))**(1/3) - R\n",
    "G = 6.67 * 10**-11\n",
    "M = 5.97 * 10**27 # Convert kg to g by added 3 to the exponent\n",
    "R = 6371 * 1000 # Convert km to m by multiplying by 1000\n",
    "\n",
    "T = float(input(\"Enter your desired value of T: \"))\n",
    "height = ((G * M * T**2) / (4 * np.pi**2))**(1/3) - R\n",
    "print(f\"For a satellite to orbit the Earth once every {T} \\\n",
    "seconds it needs to be launched to a height of \\\n",
    "approximately {height} meters above the Earth's surface.\")"
   ]
  },
  {
   "cell_type": "code",
   "execution_count": 11,
   "metadata": {},
   "outputs": [
    {
     "name": "stdout",
     "output_type": "stream",
     "text": [
      "For a satellite to orbit the Earth once per day it needs to be launched to a height of approximately 415898101.7617496 meters above the Earth's surface.\n",
      "For a satellite to orbit the Earth once per 90 minutes needs to be launched to a height of approximately 60132216.25372859 meters above the Earth's surface.\n",
      "For a satellite to orbit the Earth once per 45 minutes needs to be launched to a height of approximately 35523401.02189176 meters above the Earth's surface.\n"
     ]
    }
   ],
   "source": [
    "# PART C\n",
    "T = 86400 # Seconds per day\n",
    "height_day = ((G * M * T**2) / (4 * np.pi**2))**(1/3) - R\n",
    "print(f\"For a satellite to orbit the Earth once per day it \\\n",
    "needs to be launched to a height of \\\n",
    "approximately {height_day} meters above the Earth's surface.\")\n",
    "\n",
    "T = 5400 # Seconds per 90 minutes\n",
    "height = ((G * M * T**2) / (4 * np.pi**2))**(1/3) - R\n",
    "print(f\"For a satellite to orbit the Earth once per 90 minutes \\\n",
    "needs to be launched to a height of \\\n",
    "approximately {height} meters above the Earth's surface.\")\n",
    "\n",
    "T = 2700 # Seconds per 45 minutes\n",
    "height = ((G * M * T**2) / (4 * np.pi**2))**(1/3) - R\n",
    "print(f\"For a satellite to orbit the Earth once per 45 minutes \\\n",
    "needs to be launched to a height of \\\n",
    "approximately {height} meters above the Earth's surface.\")"
   ]
  },
  {
   "cell_type": "markdown",
   "metadata": {},
   "source": [
    "The conclusion that I can draw from the last calculation is that as the orbital period decreases so does the altitude at which the satellite must orbit. In other words, in order for a satellite to orbit the Earth faster it must be closer to Earth's surface."
   ]
  },
  {
   "cell_type": "code",
   "execution_count": 13,
   "metadata": {},
   "outputs": [
    {
     "name": "stdout",
     "output_type": "stream",
     "text": [
      "The difference in altitude between a day orbit vs a sideral day orbit is 821478.4627931714 meters.\n"
     ]
    }
   ],
   "source": [
    "# PART D\n",
    "T = 86148 # Seconds per sidereal day\n",
    "height_sidereal_day = ((G * M * T**2) / (4 * np.pi**2))**(1/3) - R\n",
    "difference = height_day - height_sidereal_day\n",
    "print(f\"The difference in altitude between a day orbit vs a sideral day orbit is {difference} meters.\")"
   ]
  },
  {
   "attachments": {},
   "cell_type": "markdown",
   "metadata": {},
   "source": [
    "5. Exercise 2.3"
   ]
  },
  {
   "cell_type": "code",
   "execution_count": 15,
   "metadata": {},
   "outputs": [
    {
     "name": "stdin",
     "output_type": "stream",
     "text": [
      "Enter a value for the x-coordinate:  5\n",
      "Enter a value for the y-coordinate:  4\n"
     ]
    },
    {
     "name": "stdout",
     "output_type": "stream",
     "text": [
      "The corresponding polar coordinates are:\n",
      "r = 6.4031242374328485\n",
      "theta = 38.65980825409009\n"
     ]
    }
   ],
   "source": [
    "x = float(input(\"Enter a value for the x-coordinate: \"))\n",
    "y = float(input(\"Enter a value for the y-coordinate: \"))\n",
    "\n",
    "# To calculate r given x and y we can use the following formula:\n",
    "r = np.sqrt(x**2 + y**2)\n",
    "\n",
    "# To calculate theta given x and y we can use the following formula:\n",
    "theta = np.degrees(np.arctan2(y, x))\n",
    "\n",
    "print(f\"The corresponding polar coordinates are:\\nr = {r}\\ntheta = {theta}\")"
   ]
  },
  {
   "attachments": {},
   "cell_type": "markdown",
   "metadata": {},
   "source": [
    "6. Exercise 2.6"
   ]
  },
  {
   "cell_type": "code",
   "execution_count": 17,
   "metadata": {},
   "outputs": [
    {
     "name": "stdin",
     "output_type": "stream",
     "text": [
      "Enter the distance to the Sun at perihelion (l1):  147100000000\n",
      "Enter the velocity at perhelion (v1):  30287\n"
     ]
    },
    {
     "name": "stdout",
     "output_type": "stream",
     "text": [
      "l1 = 147100000000.0\n",
      "v1 = 30287.0\n",
      "v2 = 30287.0\n",
      "l2 = 147100000000.0\n",
      "semi major axis = 147100000000.0\n",
      "semi minor axis = 147100000000.0\n",
      "pi = 3.141592653589793\n",
      "orbital period = 30516609.72318543 seconds, or 0.9675526228023282 years.\n",
      "orbital eccentricity = 0.0\n"
     ]
    }
   ],
   "source": [
    "l1 = float(input(\"Enter the distance to the Sun at perihelion (l1): \"))\n",
    "v1 = float(input(\"Enter the velocity at perhelion (v1): \"))\n",
    "print(f\"l1 = {l1}\\nv1 = {v1}\")\n",
    "\n",
    "# Given l1 and v1 we can solve for v2 by using the following formula:\n",
    "# v2^(2)-((2GM))/((v1)l1)v2-[v1^(2)-((2GM))/(l1)]=0\n",
    "# Simplifying we get:\n",
    "# v2 = v1\n",
    "v2 = v1\n",
    "print(f\"v2 = {v2}\")\n",
    "\n",
    "# Now that we have v2 we can calculate l2 by the following formula:\n",
    "# l2 = l1(v1)/v2\n",
    "l2 = l1*v1/v2\n",
    "print(f\"l2 = {l2}\")\n",
    "\n",
    "# Now that we have l1 and l2 we can calculate the Semi-major axis:\n",
    "semi_major_axis = (1/2)*(l1+l2)\n",
    "print(f\"semi major axis = {semi_major_axis}\")\n",
    "\n",
    "semi_minor_axis = np.sqrt((l1*l2))\n",
    "print(f\"semi minor axis = {semi_minor_axis}\")\n",
    "print(f\"pi = {np.pi}\")\n",
    "\n",
    "orbital_period = (2 * np.pi * semi_major_axis * semi_minor_axis)/(l1*v1)\n",
    "print(f\"orbital period = {orbital_period} seconds, or {orbital_period/(3.154*10**7)} years.\")\n",
    "\n",
    "orbital_eccentricity = (l2 - l1)/(l2 + l1)\n",
    "print(f\"orbital eccentricity = {orbital_eccentricity}\")"
   ]
  },
  {
   "attachments": {},
   "cell_type": "markdown",
   "metadata": {},
   "source": [
    "7. Exercise 2.7"
   ]
  },
  {
   "cell_type": "code",
   "execution_count": 19,
   "metadata": {},
   "outputs": [
    {
     "name": "stdout",
     "output_type": "stream",
     "text": [
      "[1, 1.0]\n",
      "[1, 1.0, 2.0]\n",
      "[1, 1.0, 2.0, 5.0]\n",
      "[1, 1.0, 2.0, 5.0, 14.0]\n",
      "[1, 1.0, 2.0, 5.0, 14.0, 42.0]\n",
      "[1, 1.0, 2.0, 5.0, 14.0, 42.0, 132.0]\n",
      "[1, 1.0, 2.0, 5.0, 14.0, 42.0, 132.0, 429.0]\n",
      "[1, 1.0, 2.0, 5.0, 14.0, 42.0, 132.0, 429.0, 1430.0]\n",
      "[1, 1.0, 2.0, 5.0, 14.0, 42.0, 132.0, 429.0, 1430.0, 4862.0]\n",
      "[1, 1.0, 2.0, 5.0, 14.0, 42.0, 132.0, 429.0, 1430.0, 4862.0, 16796.0]\n",
      "[1, 1.0, 2.0, 5.0, 14.0, 42.0, 132.0, 429.0, 1430.0, 4862.0, 16796.0, 58786.0]\n",
      "[1, 1.0, 2.0, 5.0, 14.0, 42.0, 132.0, 429.0, 1430.0, 4862.0, 16796.0, 58786.0, 208012.0]\n",
      "[1, 1.0, 2.0, 5.0, 14.0, 42.0, 132.0, 429.0, 1430.0, 4862.0, 16796.0, 58786.0, 208012.0, 742900.0]\n",
      "[1, 1.0, 2.0, 5.0, 14.0, 42.0, 132.0, 429.0, 1430.0, 4862.0, 16796.0, 58786.0, 208012.0, 742900.0, 2674440.0]\n",
      "[1, 1.0, 2.0, 5.0, 14.0, 42.0, 132.0, 429.0, 1430.0, 4862.0, 16796.0, 58786.0, 208012.0, 742900.0, 2674440.0, 9694845.0]\n",
      "[1, 1.0, 2.0, 5.0, 14.0, 42.0, 132.0, 429.0, 1430.0, 4862.0, 16796.0, 58786.0, 208012.0, 742900.0, 2674440.0, 9694845.0, 35357670.0]\n",
      "[1, 1.0, 2.0, 5.0, 14.0, 42.0, 132.0, 429.0, 1430.0, 4862.0, 16796.0, 58786.0, 208012.0, 742900.0, 2674440.0, 9694845.0, 35357670.0, 129644790.0]\n",
      "[1, 1.0, 2.0, 5.0, 14.0, 42.0, 132.0, 429.0, 1430.0, 4862.0, 16796.0, 58786.0, 208012.0, 742900.0, 2674440.0, 9694845.0, 35357670.0, 129644790.0, 477638700.0]\n"
     ]
    }
   ],
   "source": [
    "cat_nums = [1]\n",
    "cat_num = 1\n",
    "limit = 1000000000\n",
    "\n",
    "while (cat_num <= limit):\n",
    "    n = len(cat_nums) - 1\n",
    "    cat_num = ((4 * n + 2)/(n + 2))*cat_nums[n]\n",
    "    if (cat_num > limit):\n",
    "        break\n",
    "    cat_nums.append(cat_num)\n",
    "    print(cat_nums)"
   ]
  },
  {
   "cell_type": "code",
   "execution_count": null,
   "metadata": {},
   "outputs": [],
   "source": []
  }
 ],
 "metadata": {
  "kernelspec": {
   "display_name": "Python 3 (ipykernel)",
   "language": "python",
   "name": "python3"
  },
  "language_info": {
   "codemirror_mode": {
    "name": "ipython",
    "version": 3
   },
   "file_extension": ".py",
   "mimetype": "text/x-python",
   "name": "python",
   "nbconvert_exporter": "python",
   "pygments_lexer": "ipython3",
   "version": "3.12.4"
  }
 },
 "nbformat": 4,
 "nbformat_minor": 4
}
