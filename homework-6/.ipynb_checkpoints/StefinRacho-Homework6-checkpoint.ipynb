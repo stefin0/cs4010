{
 "cells": [
  {
   "cell_type": "markdown",
   "metadata": {},
   "source": [
    "## Homework 6\n",
    "\n",
    "\n",
    "\n",
    "    \n",
    "### Due Friday, 10/25/2024\n",
    "\n",
    "\n",
    "### 1. 2D Interpolation\n",
    "\n",
    "    \n",
    "Back in Homework 3, we saw an example of scanning-tunnelling miscorscope data in the file stm.txt.  Now let's do some interpolation with this data.\n",
    "\n",
    "a) First, load the data and pick out every other data point in the x and y directions.  I.e., you should have data points [0,0], [0,2], [0,4], ..., [2,0], [2,2], [2,4], ...  You can look at the lectrure notes on Gaussian Process Regresison for an example how to do this.  You will use this data set to make the interpolation, and the other data points for comparison.\n",
    "\n",
    "b) First, do a 2D linear interpolation on the reduced (even) data points.  Use the function scipy.interpolate.RegularGridInterpolator().  Then reconstruct a new version of the entire data set (all points) using this interpolation.  Make a plot of row 300 for both the origional data and the interpolated data.  On average, how far off is the interpolated data?  Do the same thing for row 301.  Why is the data in this row farther off?\n",
    "\n",
    "c) Repeat part b) using cubic interpoalation.  You can still use scipy.interpolate.RegularGridInterpolator() with the option method='cubic'.\n",
    "\n",
    "d) Now repeate part b) using gaussian proces regression.  Be sure to include the errors in your plot using the sigma returned by the GPR and the fill_between() function.  How does the accuracy compare to cubic interpolation?  How does the actual error compare to the sigma from the GPR?\n",
    "\n",
    "e) Finally, repeate part d), but include an error on each point of 0.005, the rounding error on the data.  Compare the sigma returned by the GPR and the difference between the real and interpolated values in parts d) and e).\n",
    "\n",
    "<br>\n"
   ]
  },
  {
   "cell_type": "code",
   "execution_count": null,
   "metadata": {},
   "outputs": [],
   "source": []
  }
 ],
 "metadata": {
  "kernelspec": {
   "display_name": "Python 3 (ipykernel)",
   "language": "python",
   "name": "python3"
  },
  "language_info": {
   "codemirror_mode": {
    "name": "ipython",
    "version": 3
   },
   "file_extension": ".py",
   "mimetype": "text/x-python",
   "name": "python",
   "nbconvert_exporter": "python",
   "pygments_lexer": "ipython3",
   "version": "3.12.4"
  }
 },
 "nbformat": 4,
 "nbformat_minor": 4
}
