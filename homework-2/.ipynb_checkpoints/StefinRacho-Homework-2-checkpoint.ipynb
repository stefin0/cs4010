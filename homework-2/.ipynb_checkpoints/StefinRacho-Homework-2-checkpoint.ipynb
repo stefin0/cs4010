{
 "cells": [
  {
   "cell_type": "markdown",
   "metadata": {},
   "source": [
    "## Homework 2\n",
    "\n",
    "### Due Friday, 9/20/2024\n",
    "\n",
    "### For each homework set: \n",
    "\n",
    "### Create a New iPython (Jupyter) notebook. Name the notebook FirstAndLastName_Homework2 and save it before you start working\n",
    "\n",
    "### To submit, export or print your notebook as a pdf, with all outputs visible. Upload both the pdf and a copy of your notebook (.ipynb) in Canvas."
   ]
  },
  {
   "cell_type": "markdown",
   "metadata": {},
   "source": [
    "1. Exercise 2.8: Create two arrays a and b<br>\n",
    "    a = [1,2,3,4]<br>\n",
    "    b = [2,4,6,8]<br>\n",
    "    Compute the following:<br>\n",
    "    \n",
    "    b/a + 1<br>\n",
    "    b/(a+1)<br>\n",
    "    1/a<br>\n",
    "    \n",
    "    Verify these values by computing it by hand. (Either paper or using Markdown)"
   ]
  },
  {
   "cell_type": "code",
   "execution_count": 3,
   "metadata": {},
   "outputs": [],
   "source": [
    "import numpy as np\n",
    "import timeit"
   ]
  },
  {
   "cell_type": "code",
   "execution_count": 30,
   "metadata": {},
   "outputs": [
    {
     "name": "stdout",
     "output_type": "stream",
     "text": [
      "a = [1 2 3 4]\n",
      "b = [2 4 6 8]\n",
      "b/a + 1 = [3. 3. 3. 3.]\n",
      "b/(a+1) = [1.         1.33333333 1.5        1.6       ]\n",
      "1/a = [1.         0.5        0.33333333 0.25      ]\n"
     ]
    }
   ],
   "source": [
    "a = np.array([1, 2, 3, 4])\n",
    "b = np.array([2, 4, 6, 8])\n",
    "print(f\"a = {a}\")\n",
    "print(f\"b = {b}\")\n",
    "print(f\"b/a + 1 = {b/a + 1}\")\n",
    "print(f\"b/(a+1) = {b/(a+1)}\")\n",
    "print(f\"1/a = {1/a}\")"
   ]
  },
  {
   "cell_type": "markdown",
   "metadata": {},
   "source": [
    "Solving for b/a + 1:<br>\n",
    "b/a + 1 = [2/1 + 1, 4/2 + 1, 6/3 + 1, 8/4 + 1]<br>\n",
    "b/a + 1 = [2 + 1, 2 + 1, 2 + 1, 2 + 1]<br>\n",
    "b/a + 1 = [3, 3, 3, 3]<br>\n",
    "\n",
    "Solving for b/(a+1):<br>\n",
    "b/(a+1) = [2/(1+1), 4/(2+1), 6/(3+1), 8/(4+1)]<br>\n",
    "b/(a+1) = [2/2, 4/3, 6/4, 8/5]<br>\n",
    "b/(a+1) = [1, 1.3333, 1.5, 1.6]<br>\n",
    "\n",
    "Solving for 1/a:<br>\n",
    "1/a = [1/1, 1/2, 1/3, 1/4]<br>\n",
    "1/a = [1, 0.5, 0.3333, 0.25]<br>"
   ]
  },
  {
   "cell_type": "markdown",
   "metadata": {},
   "source": [
    "2. Using the same arrays above. Write a program to compute the dot product between them by accessing the elements of the array individually. Verify the result using the built-in function. (np.dot)   You may need to look up what a dot product is."
   ]
  },
  {
   "cell_type": "code",
   "execution_count": 90,
   "metadata": {},
   "outputs": [
    {
     "name": "stdout",
     "output_type": "stream",
     "text": [
      "arr1[0] = 1\n",
      "arr2[0] = 2\n",
      "1 * 2 = 2\n",
      "0 + 2 = 2\n",
      "dot product so far is 2\n",
      "\n",
      "arr1[1] = 2\n",
      "arr2[1] = 4\n",
      "2 * 4 = 8\n",
      "2 + 8 = 10\n",
      "dot product so far is 10\n",
      "\n",
      "arr1[2] = 3\n",
      "arr2[2] = 6\n",
      "3 * 6 = 18\n",
      "10 + 18 = 28\n",
      "dot product so far is 28\n",
      "\n",
      "arr1[3] = 4\n",
      "arr2[3] = 8\n",
      "4 * 8 = 32\n",
      "28 + 32 = 60\n",
      "dot product so far is 60\n",
      "\n",
      "np.dot = 60\n"
     ]
    }
   ],
   "source": [
    "def dotProduct(arr1, arr2):\n",
    "    product = 0\n",
    "    for i in np.arange(arr1.size):\n",
    "        print(f\"arr1[{i}] = {arr1[i]}\\narr2[{i}] = {arr2[i]}\")\n",
    "        print(f\"{arr1[i]} * {arr2[i]} = {arr1[i] * arr2[i]}\")\n",
    "        print(f\"{product} + {arr1[i] * arr2[i]} = {product + arr1[i] * arr2[i]}\")\n",
    "        product += arr1[i] * arr2[i]\n",
    "        print(f\"dot product so far is {product}\\n\")\n",
    "    return product\n",
    "\n",
    "dotProduct(a, b)\n",
    "print(f\"np.dot = {np.dot(a, b)}\")"
   ]
  },
  {
   "cell_type": "markdown",
   "metadata": {},
   "source": [
    "3. Download the Gaussian.txt found on Canvas and put it in the same directory as your code. <br>\n",
    "    Load the values from the file using numpy.loadtxt()<br>\n",
    "    Compute the following: the sum, length, mean of all the values in the file.<br>\n",
    "    Then compute root mean square deviation (RMSD)<br>\n",
    "    <p style=\"text-align: center;\">$RMSD = \\sqrt{\\frac{\\sum_{i=0}^{i=N}(mean-values[i])^2}{N}}$ </p><br>\n",
    "    Since the values in the Gaussian.txt is drawn from a Gaussian distribution. The mean and RMSD should be almost the same as a Gaussian centered at 10 and with a sigma of 2."
   ]
  },
  {
   "cell_type": "code",
   "execution_count": 10,
   "metadata": {},
   "outputs": [
    {
     "name": "stdout",
     "output_type": "stream",
     "text": [
      "sum = 10037.52371\n",
      "length = 1000\n",
      "mean = 10.03752371\n",
      "RMSD = 1.922871400919036\n"
     ]
    }
   ],
   "source": [
    "x = np.loadtxt(\"Gaussian.txt\")\n",
    "sum = np.sum(x)\n",
    "print(f\"sum = {sum}\")\n",
    "\n",
    "length = x.size\n",
    "print(f\"length = {length}\")\n",
    "\n",
    "mean = np.mean(x)\n",
    "print(f\"mean = {mean}\")\n",
    "\n",
    "RMSD = np.sqrt(np.sum((x - mean)**2) / length)\n",
    "print(f\"RMSD = {RMSD}\")"
   ]
  },
  {
   "cell_type": "markdown",
   "metadata": {},
   "source": [
    "4. Download the matrix.txt found on Canvas and put in the same directory as your code <br>\n",
    "    - Load the values from the file using numpy.loadtxt()\n",
    "    - print out the following properties of the matrix and explain what each tell you about the array:\n",
    "        - len, shape, sum, min, max (note that some of these function will require you loop through each row of the matrix)\n",
    "    - Slice the matrix to print out only the 1st Row\n",
    "    - Slice the matrix to print out only the 1st Column\n",
    "    - Slice the matrix to print out only the 1st 3 Row\n",
    "    - Slice the matrix to print out only the 1st 3 Column    \n",
    "    - Slice the matrix to print out only the last 3 Row\n",
    "    - Slice the matrix to print out only the last 3 Column"
   ]
  },
  {
   "cell_type": "code",
   "execution_count": 27,
   "metadata": {},
   "outputs": [
    {
     "name": "stdout",
     "output_type": "stream",
     "text": [
      "matrix = \n",
      "[[ 0.  1.  2.  3.  4.  5.  6.  7.  8.  9.]\n",
      " [10. 11. 12. 13. 14. 15. 16. 17. 18. 19.]\n",
      " [20. 21. 22. 23. 24. 25. 26. 27. 28. 29.]\n",
      " [30. 31. 32. 33. 34. 35. 36. 37. 38. 39.]\n",
      " [40. 41. 42. 43. 44. 45. 46. 47. 48. 49.]\n",
      " [50. 51. 52. 53. 54. 55. 56. 57. 58. 59.]\n",
      " [60. 61. 62. 63. 64. 65. 66. 67. 68. 69.]\n",
      " [70. 71. 72. 73. 74. 75. 76. 77. 78. 79.]\n",
      " [80. 81. 82. 83. 84. 85. 86. 87. 88. 89.]\n",
      " [90. 91. 92. 93. 94. 95. 96. 97. 98. 99.]]\n",
      "\n",
      "matrix length = 100\n",
      "Length describes how many elements are in the matrix.\n",
      "\n",
      "matrix shape = (10, 10)\n",
      "Shape describes the dimensions of the array.\n",
      "\n",
      "matrix sum = 4950.0\n",
      "Sum describes the value when all the elements in the matrix are added together.\n",
      "\n",
      "matrix min = 0.0\n",
      "Min describes the minimum value in the matrix.\n",
      "\n",
      "matrix max = 99.0\n",
      "Max describes the maximum value in the matrix.\n",
      "\n",
      "1st Row = [0. 1. 2. 3. 4. 5. 6. 7. 8. 9.]\n",
      "\n",
      "1st Column = [ 0. 10. 20. 30. 40. 50. 60. 70. 80. 90.]\n",
      "\n",
      "First 3 Rows =\n",
      "[[ 0.  1.  2.  3.  4.  5.  6.  7.  8.  9.]\n",
      " [10. 11. 12. 13. 14. 15. 16. 17. 18. 19.]\n",
      " [20. 21. 22. 23. 24. 25. 26. 27. 28. 29.]]\n",
      "\n",
      "First 3 Columns =\n",
      "[[ 0.  1.  2.]\n",
      " [10. 11. 12.]\n",
      " [20. 21. 22.]\n",
      " [30. 31. 32.]\n",
      " [40. 41. 42.]\n",
      " [50. 51. 52.]\n",
      " [60. 61. 62.]\n",
      " [70. 71. 72.]\n",
      " [80. 81. 82.]\n",
      " [90. 91. 92.]]\n",
      "\n",
      "Last 3 Rows =\n",
      "[[70. 71. 72. 73. 74. 75. 76. 77. 78. 79.]\n",
      " [80. 81. 82. 83. 84. 85. 86. 87. 88. 89.]\n",
      " [90. 91. 92. 93. 94. 95. 96. 97. 98. 99.]]\n",
      "\n",
      "Last 3 Columns=\n",
      "[[ 7.  8.  9.]\n",
      " [17. 18. 19.]\n",
      " [27. 28. 29.]\n",
      " [37. 38. 39.]\n",
      " [47. 48. 49.]\n",
      " [57. 58. 59.]\n",
      " [67. 68. 69.]\n",
      " [77. 78. 79.]\n",
      " [87. 88. 89.]\n",
      " [97. 98. 99.]]\n",
      "\n"
     ]
    }
   ],
   "source": [
    "matrix = np.loadtxt(\"matrix.txt\")\n",
    "print(f\"matrix = \\n{matrix}\\n\")\n",
    "\n",
    "print(f\"matrix length = {matrix.size}\\nLength describes how many elements are in the matrix.\\n\")\n",
    "print(f\"matrix shape = {matrix.shape}\\nShape describes the dimensions of the array.\\n\")\n",
    "print(f\"matrix sum = {matrix.sum()}\\nSum describes the value when all the elements in the matrix are added together.\\n\")\n",
    "print(f\"matrix min = {matrix.min()}\\nMin describes the minimum value in the matrix.\\n\")\n",
    "print(f\"matrix max = {matrix.max()}\\nMax describes the maximum value in the matrix.\\n\")\n",
    "print(f\"1st Row = {matrix[0, :]}\\n\")\n",
    "print(f\"1st Column = {matrix[:, 0]}\\n\")\n",
    "print(f\"First 3 Rows =\\n{matrix[:3, :]}\\n\")\n",
    "print(f\"First 3 Columns =\\n{matrix[:, :3]}\\n\")\n",
    "print(f\"Last 3 Rows =\\n{matrix[-3:, :]}\\n\")\n",
    "print(f\"Last 3 Columns=\\n{matrix[:, -3:]}\\n\")"
   ]
  },
  {
   "attachments": {},
   "cell_type": "markdown",
   "metadata": {},
   "source": [
    "5. Exercise 2.9"
   ]
  },
  {
   "cell_type": "code",
   "execution_count": 11,
   "metadata": {},
   "outputs": [
    {
     "name": "stdout",
     "output_type": "stream",
     "text": [
      "The Madelung constant for L = 325 is approximately -1.7493383281793022\n",
      "Time = 25.134665900026448\n"
     ]
    }
   ],
   "source": [
    "L = 325\n",
    "start_time = timeit.default_timer()\n",
    "\n",
    "i, j, k = np.meshgrid(np.arange(-L, L+1), np.arange(-L, L+1), np.arange(-L, L+1), indexing='ij')\n",
    "\n",
    "r = np.sqrt(i**2 + j**2 + k**2)\n",
    "r[L, L, L] = 1\n",
    "\n",
    "sign = np.where((i + j + k) % 2 == 0, 1, -1)\n",
    "\n",
    "potentials = sign / r\n",
    "\n",
    "total_sum = np.sum(potentials) - potentials[L, L, L]\n",
    "\n",
    "end_time = timeit.default_timer()\n",
    "\n",
    "elapsed_time = end_time - start_time\n",
    "\n",
    "print(f\"The Madelung constant for L = {L} is approximately {total_sum}\")\n",
    "print(f\"Time = {elapsed_time}\")"
   ]
  },
  {
   "attachments": {},
   "cell_type": "markdown",
   "metadata": {},
   "source": [
    "6. Exercise 2.10"
   ]
  },
  {
   "cell_type": "code",
   "execution_count": 83,
   "metadata": {},
   "outputs": [
    {
     "name": "stdin",
     "output_type": "stream",
     "text": [
      "Enter Mass Number (A): 58\n",
      "Enter Atomic Number (Z): 28\n"
     ]
    },
    {
     "name": "stdout",
     "output_type": "stream",
     "text": [
      "Binding Energy (B) = 497.5620206224374\n",
      "Binding Energy Per Nuclean = 8.578655527973059\n"
     ]
    },
    {
     "name": "stdin",
     "output_type": "stream",
     "text": [
      "Enter Atomic Number (Z): 28\n"
     ]
    },
    {
     "name": "stdout",
     "output_type": "stream",
     "text": [
      "The most stable nucleus has A = 62\n",
      "Binding Energy Per Nucleon = 8.70245768367189\n",
      "For Z = 1, the most stable A = 3, with Binding Energy Per Nucleon = 0.36869091831015827\n",
      "For Z = 2, the most stable A = 4, with Binding Energy Per Nucleon = 5.321930578649441\n",
      "For Z = 3, the most stable A = 7, with Binding Energy Per Nucleon = 5.280168164356119\n",
      "For Z = 4, the most stable A = 8, with Binding Energy Per Nucleon = 6.466330085889912\n",
      "For Z = 5, the most stable A = 11, with Binding Energy Per Nucleon = 6.650123444727665\n",
      "For Z = 6, the most stable A = 14, with Binding Energy Per Nucleon = 7.200918138809924\n",
      "For Z = 7, the most stable A = 15, with Binding Energy Per Nucleon = 7.330860591990981\n",
      "For Z = 8, the most stable A = 18, with Binding Energy Per Nucleon = 7.719275577459026\n",
      "For Z = 9, the most stable A = 19, with Binding Energy Per Nucleon = 7.73697768275634\n",
      "For Z = 10, the most stable A = 22, with Binding Energy Per Nucleon = 8.035350864715019\n",
      "For Z = 11, the most stable A = 25, with Binding Energy Per Nucleon = 8.025554739665797\n",
      "For Z = 12, the most stable A = 26, with Binding Energy Per Nucleon = 8.241172535624845\n",
      "For Z = 13, the most stable A = 29, with Binding Energy Per Nucleon = 8.240988355754636\n",
      "For Z = 14, the most stable A = 30, with Binding Energy Per Nucleon = 8.37916169002579\n",
      "For Z = 15, the most stable A = 33, with Binding Energy Per Nucleon = 8.38521415855582\n",
      "For Z = 16, the most stable A = 36, with Binding Energy Per Nucleon = 8.489230168218935\n",
      "For Z = 17, the most stable A = 37, with Binding Energy Per Nucleon = 8.48201495174352\n",
      "For Z = 18, the most stable A = 40, with Binding Energy Per Nucleon = 8.573405285254953\n",
      "For Z = 19, the most stable A = 43, with Binding Energy Per Nucleon = 8.551826855569242\n",
      "For Z = 20, the most stable A = 44, with Binding Energy Per Nucleon = 8.627152167121634\n",
      "For Z = 21, the most stable A = 47, with Binding Energy Per Nucleon = 8.610130576802973\n",
      "For Z = 22, the most stable A = 48, with Binding Energy Per Nucleon = 8.6585154571142\n",
      "For Z = 23, the most stable A = 51, with Binding Energy Per Nucleon = 8.645234048730842\n",
      "For Z = 24, the most stable A = 54, with Binding Energy Per Nucleon = 8.687306583887372\n",
      "For Z = 25, the most stable A = 55, with Binding Energy Per Nucleon = 8.662703971015583\n",
      "For Z = 26, the most stable A = 58, with Binding Energy Per Nucleon = 8.701432576808987\n",
      "For Z = 27, the most stable A = 61, with Binding Energy Per Nucleon = 8.678053678353882\n",
      "For Z = 28, the most stable A = 62, with Binding Energy Per Nucleon = 8.70245768367189\n",
      "For Z = 29, the most stable A = 65, with Binding Energy Per Nucleon = 8.681907349580422\n",
      "For Z = 30, the most stable A = 68, with Binding Energy Per Nucleon = 8.701580328486784\n",
      "For Z = 31, the most stable A = 69, with Binding Energy Per Nucleon = 8.675012598311142\n",
      "For Z = 32, the most stable A = 72, with Binding Energy Per Nucleon = 8.693433639739787\n",
      "For Z = 33, the most stable A = 75, with Binding Energy Per Nucleon = 8.668156247337208\n",
      "For Z = 34, the most stable A = 76, with Binding Energy Per Nucleon = 8.67683411103597\n",
      "For Z = 35, the most stable A = 79, with Binding Energy Per Nucleon = 8.653727479263061\n",
      "For Z = 36, the most stable A = 82, with Binding Energy Per Nucleon = 8.66141248935323\n",
      "For Z = 37, the most stable A = 85, with Binding Energy Per Nucleon = 8.633940444065898\n",
      "For Z = 38, the most stable A = 86, with Binding Energy Per Nucleon = 8.639441275530453\n",
      "For Z = 39, the most stable A = 89, with Binding Energy Per Nucleon = 8.613815033672552\n",
      "For Z = 40, the most stable A = 92, with Binding Energy Per Nucleon = 8.614514461544127\n",
      "For Z = 41, the most stable A = 93, with Binding Energy Per Nucleon = 8.587741675710747\n",
      "For Z = 42, the most stable A = 96, with Binding Energy Per Nucleon = 8.588337807352417\n",
      "For Z = 43, the most stable A = 99, with Binding Energy Per Nucleon = 8.561488033970447\n",
      "For Z = 44, the most stable A = 102, with Binding Energy Per Nucleon = 8.557428804696526\n",
      "For Z = 45, the most stable A = 103, with Binding Energy Per Nucleon = 8.531857077904819\n",
      "For Z = 46, the most stable A = 106, with Binding Energy Per Nucleon = 8.52785864674169\n",
      "For Z = 47, the most stable A = 109, with Binding Energy Per Nucleon = 8.500490244095234\n",
      "For Z = 48, the most stable A = 110, with Binding Energy Per Nucleon = 8.4940569666179\n",
      "For Z = 49, the most stable A = 113, with Binding Energy Per Nucleon = 8.46797678166812\n",
      "For Z = 50, the most stable A = 116, with Binding Energy Per Nucleon = 8.460713172533021\n",
      "For Z = 51, the most stable A = 119, with Binding Energy Per Nucleon = 8.433224407343122\n",
      "For Z = 52, the most stable A = 120, with Binding Energy Per Nucleon = 8.424696665334825\n",
      "For Z = 53, the most stable A = 123, with Binding Energy Per Nucleon = 8.398332486638505\n",
      "For Z = 54, the most stable A = 126, with Binding Energy Per Nucleon = 8.38868945344295\n",
      "For Z = 55, the most stable A = 129, with Binding Energy Per Nucleon = 8.361310553455423\n",
      "For Z = 56, the most stable A = 130, with Binding Energy Per Nucleon = 8.350819725669146\n",
      "For Z = 57, the most stable A = 133, with Binding Energy Per Nucleon = 8.32443069811602\n",
      "For Z = 58, the most stable A = 136, with Binding Energy Per Nucleon = 8.313019639868703\n",
      "For Z = 59, the most stable A = 139, with Binding Energy Per Nucleon = 8.285884693887583\n",
      "For Z = 60, the most stable A = 140, with Binding Energy Per Nucleon = 8.273583815729522\n",
      "For Z = 61, the most stable A = 143, with Binding Energy Per Nucleon = 8.247327458286065\n",
      "For Z = 62, the most stable A = 146, with Binding Energy Per Nucleon = 8.234582872513133\n",
      "For Z = 63, the most stable A = 149, with Binding Energy Per Nucleon = 8.207769087134613\n",
      "For Z = 64, the most stable A = 150, with Binding Energy Per Nucleon = 8.193813966434627\n",
      "For Z = 65, the most stable A = 153, with Binding Energy Per Nucleon = 8.167786207290451\n",
      "For Z = 66, the most stable A = 156, with Binding Energy Per Nucleon = 8.154024477520512\n",
      "For Z = 67, the most stable A = 159, with Binding Energy Per Nucleon = 8.127574530301825\n",
      "For Z = 68, the most stable A = 162, with Binding Energy Per Nucleon = 8.11278037767185\n",
      "For Z = 69, the most stable A = 163, with Binding Energy Per Nucleon = 8.086373082934724\n",
      "For Z = 70, the most stable A = 166, with Binding Energy Per Nucleon = 8.071829365612306\n",
      "For Z = 71, the most stable A = 169, with Binding Energy Per Nucleon = 8.045764583108769\n",
      "For Z = 72, the most stable A = 172, with Binding Energy Per Nucleon = 8.030368571593026\n",
      "For Z = 73, the most stable A = 175, with Binding Energy Per Nucleon = 8.004105311543137\n",
      "For Z = 74, the most stable A = 176, with Binding Energy Per Nucleon = 7.988369073415251\n",
      "For Z = 75, the most stable A = 179, with Binding Energy Per Nucleon = 7.962697427019249\n",
      "For Z = 76, the most stable A = 182, with Binding Energy Per Nucleon = 7.946838055684514\n",
      "For Z = 77, the most stable A = 185, with Binding Energy Per Nucleon = 7.921016888554693\n",
      "For Z = 78, the most stable A = 188, with Binding Energy Per Nucleon = 7.904575879934101\n",
      "For Z = 79, the most stable A = 191, with Binding Energy Per Nucleon = 7.87868400232803\n",
      "For Z = 80, the most stable A = 192, with Binding Energy Per Nucleon = 7.862438691993173\n",
      "For Z = 81, the most stable A = 195, with Binding Energy Per Nucleon = 7.837047201045294\n",
      "For Z = 82, the most stable A = 198, with Binding Energy Per Nucleon = 7.82033857608665\n",
      "For Z = 83, the most stable A = 201, with Binding Energy Per Nucleon = 7.794899333942829\n",
      "For Z = 84, the most stable A = 204, with Binding Energy Per Nucleon = 7.777785761025879\n",
      "For Z = 85, the most stable A = 205, with Binding Energy Per Nucleon = 7.75239433360284\n",
      "For Z = 86, the most stable A = 208, with Binding Energy Per Nucleon = 7.735485475322138\n",
      "For Z = 87, the most stable A = 211, with Binding Energy Per Nucleon = 7.710478810144077\n",
      "For Z = 88, the most stable A = 214, with Binding Energy Per Nucleon = 7.693222175964613\n",
      "For Z = 89, the most stable A = 217, with Binding Energy Per Nucleon = 7.668228396728228\n",
      "For Z = 90, the most stable A = 220, with Binding Energy Per Nucleon = 7.65068598823387\n",
      "For Z = 91, the most stable A = 223, with Binding Energy Per Nucleon = 7.625739835440575\n",
      "For Z = 92, the most stable A = 224, with Binding Energy Per Nucleon = 7.608214013689897\n",
      "For Z = 93, the most stable A = 227, with Binding Energy Per Nucleon = 7.583639834526779\n",
      "For Z = 94, the most stable A = 230, with Binding Energy Per Nucleon = 7.566035830526522\n",
      "For Z = 95, the most stable A = 233, with Binding Energy Per Nucleon = 7.5415108314640555\n",
      "For Z = 96, the most stable A = 236, with Binding Energy Per Nucleon = 7.523703637516345\n",
      "For Z = 97, the most stable A = 239, with Binding Energy Per Nucleon = 7.499251800171257\n",
      "For Z = 98, the most stable A = 242, with Binding Energy Per Nucleon = 7.481279349508352\n",
      "For Z = 99, the most stable A = 243, with Binding Energy Per Nucleon = 7.456937323389022\n",
      "For Z = 100, the most stable A = 246, with Binding Energy Per Nucleon = 7.439122944429214\n"
     ]
    }
   ],
   "source": [
    "def calc_a5(A, Z):\n",
    "    if (A % 2 == 1):\n",
    "        return 0\n",
    "    elif (A % 2 == 0 and Z % 2 == 0):\n",
    "        return 12\n",
    "    elif (A % 2 == 0 and Z % 2 == 1):\n",
    "        return -12\n",
    "\n",
    "def calc_b(A, Z, a5):\n",
    "    a1 = 15.8\n",
    "    a2 = 18.3\n",
    "    a3 = 0.714\n",
    "    a4 = 23.2\n",
    "    return a1*A - a2*A**(2/3) - a3*(Z**2/A**(1/3)) - a4*((A - 2*Z)**2/A) + a5/A**(1/2)\n",
    "\n",
    "def most_stable_A(Z):\n",
    "    max_bepn = -1\n",
    "    A_max = Z\n",
    "\n",
    "    for A in range(Z, 3*Z + 1):\n",
    "        a5 = calc_a5(A, Z)\n",
    "        B = calc_b(A, Z, a5)\n",
    "        bepn = B/A\n",
    "\n",
    "        if bepn > max_bepn:\n",
    "            max_bepn = bepn\n",
    "            A_max = A\n",
    "\n",
    "    return A_max, max_bepn\n",
    "\n",
    "A = int(input(\"Enter Mass Number (A):\"))\n",
    "Z = int(input(\"Enter Atomic Number (Z):\"))\n",
    "a5 = calc_a5(A, Z)\n",
    "\n",
    "B = calc_b(A, Z, a5)\n",
    "print(f\"Binding Energy (B) = {B}\")\n",
    "\n",
    "bepn = B/A\n",
    "print(f\"Binding Energy Per Nuclean = {bepn}\")\n",
    "\n",
    "Z = int(input(\"Enter Atomic Number (Z):\"))\n",
    "\n",
    "A_max, max_bepn = most_stable_A(Z)\n",
    "print(f\"The most stable nucleus has A = {A_max}\")\n",
    "print(f\"Binding Energy Per Nucleon = {max_bepn}\")\n",
    "\n",
    "for Z in range(1, 101):\n",
    "    A_max, max_bepn = most_stable_A(Z)    \n",
    "    print(f\"For Z = {Z}, the most stable A = {A_max}, with Binding Energy Per Nucleon = {max_bepn}\")"
   ]
  },
  {
   "cell_type": "code",
   "execution_count": null,
   "metadata": {},
   "outputs": [],
   "source": []
  }
 ],
 "metadata": {
  "kernelspec": {
   "display_name": "Python 3 (ipykernel)",
   "language": "python",
   "name": "python3"
  },
  "language_info": {
   "codemirror_mode": {
    "name": "ipython",
    "version": 3
   },
   "file_extension": ".py",
   "mimetype": "text/x-python",
   "name": "python",
   "nbconvert_exporter": "python",
   "pygments_lexer": "ipython3",
   "version": "3.12.4"
  }
 },
 "nbformat": 4,
 "nbformat_minor": 4
}
