{
 "cells": [
  {
   "cell_type": "markdown",
   "metadata": {},
   "source": [
    "## CS4010 Homework 3\n",
    "\n",
    "### Due Friday, 9/27/2024\n",
    "\n",
    "### Create a New iPython (Jupyter) notebook. Name the notebook FirstAndLastName_Homework3 and save it before you start working\n",
    "\n",
    "### To submit, export or print your notebook as a pdf, with all outputs visible. Upload both the pdf and a copy of your notebook (.ipynb) in Canvas.\n",
    "\n",
    "\n",
    "### Ch 2.6-3.3\n",
    "\n",
    "\n",
    "#### Data files needed for problems 3.1, 3.2, and 3.3 can be found on Canvas or on the textbook website.\n",
    "\n",
    "#### Be sure to include \"from matplotlib import pyplot as plt\" at the beginning of your code to use for plotting."
   ]
  },
  {
   "cell_type": "markdown",
   "metadata": {},
   "source": [
    "1. The Choose Function is defined by factorial functions as follows,$n\\choose x$$= \\frac{n!}{k!(n-k)!}$, when k >= 1, or 1 when k = 0."
   ]
  },
  {
   "cell_type": "markdown",
   "metadata": {},
   "source": [
    "a) Write a factorial function using a for loop to calculate n! where the function take n as an argument. (See page 76 for an example.)"
   ]
  },
  {
   "cell_type": "code",
   "execution_count": 59,
   "metadata": {},
   "outputs": [],
   "source": [
    "# Part 1a\n",
    "def factorial(n):\n",
    "    product = 1\n",
    "    for i in range(1, n + 1):\n",
    "        product *= i\n",
    "\n",
    "    return product"
   ]
  },
  {
   "cell_type": "markdown",
   "metadata": {},
   "source": [
    "b) Check that your factorial function works with n = 4, 5 and 6."
   ]
  },
  {
   "cell_type": "code",
   "execution_count": 62,
   "metadata": {},
   "outputs": [
    {
     "name": "stdout",
     "output_type": "stream",
     "text": [
      "4 factorial = 24\n",
      "5 factorial = 120\n",
      "6 factorial = 720\n"
     ]
    }
   ],
   "source": [
    "# Part 1b\n",
    "print(f\"4 factorial = {factorial(4)}\")\n",
    "print(f\"5 factorial = {factorial(5)}\")\n",
    "print(f\"6 factorial = {factorial(6)}\")"
   ]
  },
  {
   "cell_type": "markdown",
   "metadata": {},
   "source": [
    "c) Write a choose function that takes n and k as arguments.  This function should use multiple calls to your factorial function to calculate the Choose Function."
   ]
  },
  {
   "cell_type": "code",
   "execution_count": 65,
   "metadata": {},
   "outputs": [
    {
     "data": {
      "text/plain": [
       "70.0"
      ]
     },
     "execution_count": 65,
     "metadata": {},
     "output_type": "execute_result"
    }
   ],
   "source": [
    "# Part 1c\n",
    "def choose(n, k):\n",
    "    return factorial(n) / (factorial(k) * factorial(n - k))\n",
    "\n",
    "choose(8, 4)"
   ]
  },
  {
   "cell_type": "markdown",
   "metadata": {},
   "source": [
    "d) Upgrade your factorial fuction using the recursion method in Exercise 2.13.  Make sure to give it a different name than your factorial function from part a)."
   ]
  },
  {
   "cell_type": "code",
   "execution_count": 68,
   "metadata": {},
   "outputs": [
    {
     "name": "stdout",
     "output_type": "stream",
     "text": [
      "4 factorial = 24\n",
      "5 factorial = 120\n",
      "6 factorial = 720\n"
     ]
    }
   ],
   "source": [
    "# Part 1d\n",
    "def factorial_upgraded(n):\n",
    "    if (n == 1):\n",
    "        return 1\n",
    "\n",
    "    return n * factorial_upgraded(n - 1)\n",
    "\n",
    "print(f\"4 factorial = {factorial_upgraded(4)}\")\n",
    "print(f\"5 factorial = {factorial_upgraded(5)}\")\n",
    "print(f\"6 factorial = {factorial_upgraded(6)}\")"
   ]
  },
  {
   "cell_type": "markdown",
   "metadata": {},
   "source": [
    "2. Plotting:"
   ]
  },
  {
   "cell_type": "markdown",
   "metadata": {},
   "source": [
    "a) Create plots of $y_1(t) = A sin(2\\pi f_1  t)$ and $y_2(t) = A sin(2\\pi f_2  t)$ on the same axis with where t is time with units of seconds, y is position with units of meters. A = 5.0 and $f_1= 10 Hz, f_2=12Hz$. Make the range using linspace from 0 to 2*pi with a 1000 points.  Be sure to label your axes."
   ]
  },
  {
   "cell_type": "code",
   "execution_count": null,
   "metadata": {},
   "outputs": [],
   "source": [
    "from matplotlib import pyplot as plt"
   ]
  },
  {
   "cell_type": "code",
   "execution_count": null,
   "metadata": {},
   "outputs": [],
   "source": []
  },
  {
   "cell_type": "markdown",
   "metadata": {},
   "source": [
    "b) Create a plot of y1+y2 with the same parameters above."
   ]
  },
  {
   "cell_type": "markdown",
   "metadata": {},
   "source": [
    "c) Repeat again with a beat frequency of $\\Delta f = 1 Hz, 0.5 Hz, 0.1 Hz$. Use multiple code boxes  by copying and pasting the codes with different $\\Delta f$'s"
   ]
  },
  {
   "cell_type": "markdown",
   "metadata": {},
   "source": [
    "3. Exercise 3.1"
   ]
  },
  {
   "cell_type": "markdown",
   "metadata": {},
   "source": [
    "4. Exercise 3.2"
   ]
  },
  {
   "cell_type": "markdown",
   "metadata": {},
   "source": [
    "5. Exercise 3.3"
   ]
  }
 ],
 "metadata": {
  "kernelspec": {
   "display_name": "Python 3 (ipykernel)",
   "language": "python",
   "name": "python3"
  },
  "language_info": {
   "codemirror_mode": {
    "name": "ipython",
    "version": 3
   },
   "file_extension": ".py",
   "mimetype": "text/x-python",
   "name": "python",
   "nbconvert_exporter": "python",
   "pygments_lexer": "ipython3",
   "version": "3.12.4"
  }
 },
 "nbformat": 4,
 "nbformat_minor": 4
}
